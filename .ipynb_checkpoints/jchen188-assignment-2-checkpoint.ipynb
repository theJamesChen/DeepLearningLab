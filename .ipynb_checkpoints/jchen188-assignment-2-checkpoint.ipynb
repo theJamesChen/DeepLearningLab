{
 "cells": [
  {
   "cell_type": "code",
   "execution_count": 2,
   "metadata": {},
   "outputs": [],
   "source": [
    "# Use matplotlib's inline backend, which creates and inserts\n",
    "# plots directly below our Jupyter cells.\n",
    "%matplotlib inline\n",
    "import matplotlib.pyplot as plt"
   ]
  },
  {
   "cell_type": "markdown",
   "metadata": {},
   "source": [
    "### Read This First"
   ]
  },
  {
   "cell_type": "markdown",
   "metadata": {},
   "source": [
    "#### You are allowed to import modules, but only from the Python 3 standard library. For example, do *not* import numpy, torch, etc. (The only exception is `matplotlib`, which we have already imported above.)\n",
    "\n",
    "#### Remember that `tab` is is useful for autocompletion.\n",
    "\n",
    "#### Remember that `shift + tab` is useful for rapidly obtaining usage + documentation."
   ]
  },
  {
   "cell_type": "markdown",
   "metadata": {},
   "source": [
    "### Moving Averages, Padding, and Edge Effects"
   ]
  },
  {
   "cell_type": "markdown",
   "metadata": {},
   "source": [
    "#### Complete the `moving_average` function below, which computes the moving average of a 1-D input signal. (See the examples in the documentation if you're unfamiliar with moving averages.)"
   ]
  },
  {
   "cell_type": "code",
   "execution_count": 64,
   "metadata": {},
   "outputs": [],
   "source": [
    "def moving_average(x, window_size=3):\n",
    "    \"\"\" Compute a moving average.\n",
    "    \n",
    "    Example 1: moving_average([1.0, 2.0, 3.0, 4.0, 5.0, 6.0], window_size=3) returns\n",
    "        [(1 + 2 + 3) / 3, (2 + 3 + 4) / 3, (3 + 4 + 5) / 3, (4 + 5 + 6) / 3]\n",
    "        which is [2.0, 3.0, 4.0, 5.0].\n",
    "    \n",
    "    Example 2: moving_average([1.0, 2.0, 3.0, 4.0, 5.0, 6.0], window_size=5) returns\n",
    "        [(1 + 2 + 3 + 4 + 5) / 5, (2 + 3 + 4 + 5 + 6) / 5]\n",
    "        which is [3.0, 4.0].\n",
    "    \n",
    "    Args:\n",
    "        x: A list of floats.\n",
    "        window_size: A positive, odd integer.\n",
    "        \n",
    "    Returns:\n",
    "        A list of floats.\n",
    "    \"\"\"\n",
    "    if window_size % 2 != 1:\n",
    "        raise ValueError('window_size must be odd.')\n",
    "    if window_size > len(x):\n",
    "        raise ValueError('window_size should be smaller than len(x).')\n",
    "        \n",
    "    # TODO: Replace with valid code.\n",
    "    y = [sum(x[i:i+window_size])/window_size for i in range(0, len(x)-window_size + 1)]\n",
    "    \n",
    "    return y"
   ]
  },
  {
   "cell_type": "markdown",
   "metadata": {},
   "source": [
    "#### Print the outputs from your `moving_average` function when run on the inputs given in the documentation.\n",
    "\n",
    "Verify that they match the expected outputs that are given in the documentation."
   ]
  },
  {
   "cell_type": "code",
   "execution_count": 65,
   "metadata": {},
   "outputs": [
    {
     "name": "stdout",
     "output_type": "stream",
     "text": [
      "[2.0, 3.0, 4.0, 5.0]\n",
      "[3.0, 4.0]\n"
     ]
    }
   ],
   "source": [
    "print(moving_average([1.0, 2.0, 3.0, 4.0, 5.0, 6.0], window_size=3))\n",
    "print(moving_average([1.0, 2.0, 3.0, 4.0, 5.0, 6.0], window_size=5))"
   ]
  },
  {
   "cell_type": "markdown",
   "metadata": {},
   "source": [
    "#### Create `x = [1, 1, 1, 1, 1, 2, 2, 2, 2, 2, 1, 1, 1, 1, 1]` and plot both `x` and `y = moving_average(x, window_size=3)` using `matplotlib`'s `plot` function."
   ]
  },
  {
   "cell_type": "code",
   "execution_count": 66,
   "metadata": {},
   "outputs": [
    {
     "data": {
      "text/plain": [
       "[<matplotlib.lines.Line2D at 0x7f81da5f1080>]"
      ]
     },
     "execution_count": 66,
     "metadata": {},
     "output_type": "execute_result"
    },
    {
     "data": {
      "image/png": "[encoded data removed]",
      "text/plain": [
       "<matplotlib.figure.Figure at 0x7f81da60c0b8>"
      ]
     },
     "metadata": {},
     "output_type": "display_data"
    }
   ],
   "source": [
    "x = [1, 1, 1, 1, 1, 2, 2, 2, 2, 2, 1, 1, 1, 1, 1]\n",
    "plt.figure()\n",
    "plt.plot(x)\n",
    "y = moving_average(x, window_size=3)\n",
    "\n",
    "plt.plot(y)"
   ]
  },
  {
   "cell_type": "markdown",
   "metadata": {},
   "source": [
    "Notice that `y` differs in length from `x`, and that `y` is *shifted* in that the peaks above are not horizontally aligned.\n",
    "\n",
    "Later in the course, we will see this same effect when using convolutions, and it will sometimes be convenient to enforce both equal length and centering (so that the peaks above are aligned). One common way of achieving this is to pad `x` with 0s on both sides before applying the moving average."
   ]
  },
  {
   "cell_type": "markdown",
   "metadata": {},
   "source": [
    "Before we get to the `padded_moving_average` function, let's go through a simple warm-up exercise:"
   ]
  },
  {
   "cell_type": "markdown",
   "metadata": {},
   "source": [
    "#### Evaluate the expression `[0] * 5`"
   ]
  },
  {
   "cell_type": "code",
   "execution_count": 6,
   "metadata": {},
   "outputs": [
    {
     "name": "stdout",
     "output_type": "stream",
     "text": [
      "[0, 0, 0, 0, 0]\n"
     ]
    }
   ],
   "source": [
    "print([0] * 5)"
   ]
  },
  {
   "cell_type": "markdown",
   "metadata": {},
   "source": [
    "If this result surprises you, remember that Python lists can contain *arbitrary items*, not just numerical values."
   ]
  },
  {
   "cell_type": "markdown",
   "metadata": {},
   "source": [
    "#### Evaluate the expressions `[0] + ['test']`"
   ]
  },
  {
   "cell_type": "code",
   "execution_count": 7,
   "metadata": {},
   "outputs": [
    {
     "name": "stdout",
     "output_type": "stream",
     "text": [
      "[0, 'test']\n"
     ]
    }
   ],
   "source": [
    "print([0] + ['test'])"
   ]
  },
  {
   "cell_type": "markdown",
   "metadata": {},
   "source": [
    "#### Evaluate the expression `[0] + ['test'] * 5`"
   ]
  },
  {
   "cell_type": "code",
   "execution_count": 8,
   "metadata": {},
   "outputs": [
    {
     "name": "stdout",
     "output_type": "stream",
     "text": [
      "[0, 'test', 'test', 'test', 'test', 'test']\n"
     ]
    }
   ],
   "source": [
    "print([0] + ['test'] * 5)"
   ]
  },
  {
   "cell_type": "markdown",
   "metadata": {},
   "source": [
    "#### Evaluate the expression [0] + ['a', 'b', 'c'] + [print] * 2"
   ]
  },
  {
   "cell_type": "code",
   "execution_count": 9,
   "metadata": {},
   "outputs": [
    {
     "name": "stdout",
     "output_type": "stream",
     "text": [
      "[0, 'a', 'b', 'c', <built-in function print>, <built-in function print>]\n"
     ]
    }
   ],
   "source": [
    "print([0] + ['a', 'b', 'c'] + [print] * 2)"
   ]
  },
  {
   "cell_type": "markdown",
   "metadata": {},
   "source": [
    "Later, when we get to NumPy and PyTorch, we will see behavior that might be a bit more intuitive. Unlike Python lists, arrays and tensors will almost always store numerical values, and so we will see that (for example) `5 * np.array([1, 2, 3])` evaluates to `np.array([5, 10, 15])`."
   ]
  },
  {
   "cell_type": "markdown",
   "metadata": {},
   "source": [
    "#### Complete the `padded_moving_average` function below by zero padding both sides of the input `x` before passing it to your previous `moving_average` function."
   ]
  },
  {
   "cell_type": "code",
   "execution_count": 67,
   "metadata": {},
   "outputs": [],
   "source": [
    "def padded_moving_average(x, window_size=3):\n",
    "    \"\"\" Compute a moving average.\n",
    "    \n",
    "    This differs from moving_average in that the input is first\n",
    "    padded on both sides with an appropriate number of 0s, so that\n",
    "    the output has the same length as x and so that x and y are\n",
    "    aligned.\n",
    "    \n",
    "    Example: padded_moving_average([1.0, 1.0, 1.0], window_size=3) returns\n",
    "        [(0 + 1 + 1) / 3, (1 + 1 + 1) / 3, (1 + 1 + 0) / 3]\n",
    "        which has approximate values of [0.66, 1.0, 0.66].\n",
    "    \n",
    "    Args:\n",
    "        x: A list of floats.\n",
    "        window_size: A positive, odd integer that's less than the length of .\n",
    "        \n",
    "    Returns:\n",
    "        A list of floats.\n",
    "    \"\"\"\n",
    "    \n",
    "    # TODO: Replace with valid code\n",
    "    lengthy = len(range(0, len(x)-window_size + 1))\n",
    "    zeros = int((len(x) - lengthy)/2)\n",
    "    #print(zeros)\n",
    "    y = x[:]\n",
    "    #So I don't modify x\n",
    "    for i in range(zeros):\n",
    "        y.insert(0, 0)\n",
    "        y.append(0)\n",
    "    y = moving_average(y, window_size)\n",
    "    \n",
    "    return y\n",
    "#print(padded_moving_average([1.0, 1.0, 1.0], window_size=3))"
   ]
  },
  {
   "cell_type": "markdown",
   "metadata": {},
   "source": [
    "#### Create `x = [1, 1, 1, 1, 1, 2, 2, 2, 2, 2, 1, 1, 1, 1, 1]` and plot both `x` and `y = padded_moving_average(x, window_size=3)` using `matplotlib`'s `plot` function. Be sure to verify that `x` is not modified after calling `padded_moving_average`."
   ]
  },
  {
   "cell_type": "code",
   "execution_count": 69,
   "metadata": {},
   "outputs": [
    {
     "name": "stdout",
     "output_type": "stream",
     "text": [
      "[1, 1, 1, 1, 1, 2, 2, 2, 2, 2, 1, 1, 1, 1, 1]\n",
      "[0.6666666666666666, 1.0, 1.0, 1.0, 1.3333333333333333, 1.6666666666666667, 2.0, 2.0, 2.0, 1.6666666666666667, 1.3333333333333333, 1.0, 1.0, 1.0, 0.6666666666666666]\n"
     ]
    },
    {
     "data": {
      "image/png": "[encoded data removed]",
      "text/plain": [
       "<matplotlib.figure.Figure at 0x7f81da5a5550>"
      ]
     },
     "metadata": {},
     "output_type": "display_data"
    }
   ],
   "source": [
    "x = [1, 1, 1, 1, 1, 2, 2, 2, 2, 2, 1, 1, 1, 1, 1]\n",
    "plt.figure()\n",
    "plt.plot(x)\n",
    "y = padded_moving_average(x, window_size=3)\n",
    "\n",
    "plt.plot(y)\n",
    "print(x)\n",
    "print(y)"
   ]
  },
  {
   "cell_type": "markdown",
   "metadata": {},
   "source": [
    "#### Does this padding procedure introduce any artifacts in our moving average?"
   ]
  },
  {
   "cell_type": "markdown",
   "metadata": {},
   "source": [
    "Yes it will introduce a new value (0) which will underestimate the moving average"
   ]
  },
  {
   "cell_type": "markdown",
   "metadata": {},
   "source": [
    "### 1-D Data Normalization"
   ]
  },
  {
   "cell_type": "markdown",
   "metadata": {},
   "source": [
    "#### Write a function `normalize` which takes in a list of 1-D data and returns a list of *normalized* data which is centered and scaled to have a mean of 0 and a standard deviation of 1. Be sure to include documentation using Google style docstrings, as done above."
   ]
  },
  {
   "cell_type": "code",
   "execution_count": 70,
   "metadata": {},
   "outputs": [],
   "source": [
    "def mean(x):\n",
    "    \"\"\" Gives the mean\n",
    "    Args:\n",
    "        x: A list of 1D data\n",
    "        \n",
    "    Returns:\n",
    "        A mean\n",
    "    \"\"\"\n",
    "    return sum(x) / len(x)\n",
    "\n",
    "def stdev(x):\n",
    "    \"\"\" Gives the standard deviation\n",
    "    Args:\n",
    "        x: A list of 1D data\n",
    "        \n",
    "    Returns:\n",
    "        Standard deviation\n",
    "    \"\"\"\n",
    "    variance = sum([(i-mean(x))**2 for i in x]) / len(x)\n",
    "    return variance**(.5)\n",
    "\n",
    "def normalize(x):\n",
    "    \"\"\" Takes a list of 1D data and returns a list of normalized data which is centered\n",
    "        and scaled to have a mean of 0 and and a standard deviation of 1\n",
    "    \n",
    "    Args:\n",
    "        x: A list of 1D data\n",
    "        \n",
    "    Returns:\n",
    "        A list of normalized data\n",
    "    \"\"\"\n",
    "    meanx = mean(x)\n",
    "    stdevx = stdev(x)\n",
    "    \n",
    "    return [(x[i] - meanx)/stdevx for i in range(len(x))]"
   ]
  },
  {
   "cell_type": "markdown",
   "metadata": {},
   "source": [
    "#### Create `data = [10.3, 15.5, 12.7, 13.3, 8.9, 12.3, 14.6, 11.2, 12.8, 9.5]` and form `normalized_data` using your function. Compute the mean and standard deviation of `normalized_data`, and make sure that the mean is very close to 0.0 and that the standard deviation is very close to 1.0.\n",
    "\n",
    "(Here, let's agree that `x` and `y` are 'very close' if the distance between them is less than $10^{-10}$.)"
   ]
  },
  {
   "cell_type": "code",
   "execution_count": 71,
   "metadata": {},
   "outputs": [
    {
     "name": "stdout",
     "output_type": "stream",
     "text": [
      "3.3306690738754696e-16\n",
      "1.0\n"
     ]
    }
   ],
   "source": [
    "data = [10.3, 15.5, 12.7, 13.3, 8.9, 12.3, 14.6, 11.2, 12.8, 9.5]\n",
    "#print(normalize(data))\n",
    "normalized_data = normalize(data)\n",
    "print(mean(normalized_data))\n",
    "print(stdev(normalized_data))"
   ]
  },
  {
   "cell_type": "markdown",
   "metadata": {},
   "source": [
    "### Matrices as Lists of Rows"
   ]
  },
  {
   "cell_type": "markdown",
   "metadata": {},
   "source": [
    "One way to represent matrices is as *lists* of *rows*, with each row having the same length. Here is an example:"
   ]
  },
  {
   "cell_type": "code",
   "execution_count": 14,
   "metadata": {},
   "outputs": [
    {
     "name": "stdout",
     "output_type": "stream",
     "text": [
      "[[1, 2, 3], [4, 5, 6], [7, 8, 9]]\n"
     ]
    }
   ],
   "source": [
    "A = [[1, 2, 3],\n",
    "     [4, 5, 6],\n",
    "     [7, 8, 9]]\n",
    "print(A)"
   ]
  },
  {
   "cell_type": "markdown",
   "metadata": {},
   "source": [
    "#### Write a function `transpose` which accepts a matrix in this form and *transposes* it. Be sure to include documentation using Google style docstrings, as done above.\n",
    "\n",
    "For example, if `A` is defined as above, then `transpose(A)` should return `[[1, 4, 7], [2, 5, 8], [3, 6, 9]]`."
   ]
  },
  {
   "cell_type": "code",
   "execution_count": 15,
   "metadata": {},
   "outputs": [],
   "source": [
    "def transpose(x):\n",
    "    \"\"\" Transpose a matrix as lists of row\n",
    "    \n",
    "    Args:\n",
    "        x: A list of rows\n",
    "        \n",
    "    Returns:\n",
    "        The transpose of x\n",
    "    \"\"\"\n",
    "    return list(zip(*x))"
   ]
  },
  {
   "cell_type": "markdown",
   "metadata": {},
   "source": [
    "Define `B = [[1, 2, 3, 4], [5, 6, 7, 8]]` and `B_T = transpose(B)`, and verify that `B_T` is correct."
   ]
  },
  {
   "cell_type": "code",
   "execution_count": 16,
   "metadata": {},
   "outputs": [
    {
     "name": "stdout",
     "output_type": "stream",
     "text": [
      "[[1, 2, 3, 4], [5, 6, 7, 8]]\n",
      "[(1, 5), (2, 6), (3, 7), (4, 8)]\n"
     ]
    }
   ],
   "source": [
    "B = [[1, 2, 3, 4], [5, 6, 7, 8]]\n",
    "B_T = transpose(B)\n",
    "print(B)\n",
    "print(B_T)"
   ]
  },
  {
   "cell_type": "markdown",
   "metadata": {},
   "source": [
    "### Building a Vocabulary"
   ]
  },
  {
   "cell_type": "markdown",
   "metadata": {},
   "source": [
    "Later in the course, when we deal with RNNs, we will likely build a character-level language model. For example, if our model is trained with English sentences, then we might expect that the following three probabilities go from high to low to lowest:\n",
    "\n",
    "- $P$(next character is 'e' | previous characters were 'appl')\n",
    "- $P$(next character is 'y' | previous characters were 'appl')\n",
    "- $P$(next character is 'h' | previous characters were 'appl')\n",
    "\n",
    "For now, suppose that our training data is one string (e.g. 100 MB of Wikipedia), and that our objective is to form a character vocabulary over these characters. For example, we would expect `form_char_vocab('this is cs382')` to return `[' ', '2', '3', '8', 'c', 'h', 'i', 's', 't']`, since these are the unique characters that are present.\n",
    "\n",
    "#### Write a function `form_char_vocab` that takes in a string and returns a *sorted list* of the unique characters in that string. Be sure to include documentation using Google style docstrings, as done above."
   ]
  },
  {
   "cell_type": "code",
   "execution_count": 23,
   "metadata": {},
   "outputs": [],
   "source": [
    "def form_char_vocab(x):\n",
    "    \"\"\" Takes in a string and returns a sorted list of the unique character in that string.\n",
    "    \n",
    "    Args:\n",
    "        x: Input string\n",
    "        \n",
    "    Returns:\n",
    "        A sorted list of the unique characters in that string\n",
    "    \"\"\"\n",
    "    \n",
    "    return sorted(list(set(list(x))))"
   ]
  },
  {
   "cell_type": "markdown",
   "metadata": {},
   "source": [
    "#### Print the output of your `form_char_vocab` function when run on the string `'this is a short string'`."
   ]
  },
  {
   "cell_type": "code",
   "execution_count": 26,
   "metadata": {},
   "outputs": [
    {
     "name": "stdout",
     "output_type": "stream",
     "text": [
      "[' ', 'a', 'g', 'h', 'i', 'n', 'o', 'r', 's', 't']\n"
     ]
    }
   ],
   "source": [
    "print(form_char_vocab('this is a short string'))"
   ]
  },
  {
   "cell_type": "markdown",
   "metadata": {},
   "source": [
    "#### See how long your function takes to run on the following ~10 MB string by running the following code:\n",
    "\n",
    "```\n",
    "long_ish_string = 'this is a test' * 1000000\n",
    "%timeit form_char_vocab(long_ish_string)\n",
    "```"
   ]
  },
  {
   "cell_type": "code",
   "execution_count": 27,
   "metadata": {},
   "outputs": [
    {
     "name": "stdout",
     "output_type": "stream",
     "text": [
      "468 ms ± 9.45 ms per loop (mean ± std. dev. of 7 runs, 1 loop each)\n"
     ]
    }
   ],
   "source": [
    "long_ish_string = 'this is a test' * 1000000\n",
    "%timeit form_char_vocab(long_ish_string)"
   ]
  },
  {
   "cell_type": "markdown",
   "metadata": {},
   "source": [
    "(If this doesn't terminate in, say, 10s of seconds, then something is wrong.)"
   ]
  },
  {
   "cell_type": "markdown",
   "metadata": {},
   "source": [
    "### In Place Operations"
   ]
  },
  {
   "cell_type": "markdown",
   "metadata": {},
   "source": [
    "#### Complete the `replace_element` function below, which returns a new list with all occurrences of a particular element replaced. `replace_element` should not modify any of its arguments."
   ]
  },
  {
   "cell_type": "code",
   "execution_count": 36,
   "metadata": {},
   "outputs": [],
   "source": [
    "def replace_element(a_list, element, replacement):\n",
    "    \"\"\" Replace all occurrences of an element in a list.\n",
    "    \n",
    "    a_list is not modified in place.\n",
    "    \n",
    "    Example:\n",
    "        old_list = [1, 'a', 2, 'b', 'a', 1, 'b', 1]\n",
    "        new_list = replace_element(old_list, 'b', 10)\n",
    "        # new_list is now [1, 'a', 2, 10, 'a', 1, 10, 1]\n",
    "    \n",
    "    Args:\n",
    "        a_list: A list.\n",
    "        element: The element to be replaced.\n",
    "        replacement: The replacement.\n",
    "    \n",
    "    Returns:\n",
    "        A copy of a_list, with all occurrences of element replaced\n",
    "        by replacement.\n",
    "    \"\"\"\n",
    "    \n",
    "    # TODO: Replace with valid code.\n",
    "    new_list = [replacement if a_list[i] == element else a_list[i] for i in range(len(a_list))]\n",
    "    \n",
    "    return new_list"
   ]
  },
  {
   "cell_type": "markdown",
   "metadata": {},
   "source": [
    "#### Verify that `replace_element` produces the expected output for the example in the documentation, and also verify that `replace_element` does not modify `old_list`."
   ]
  },
  {
   "cell_type": "code",
   "execution_count": 72,
   "metadata": {},
   "outputs": [
    {
     "name": "stdout",
     "output_type": "stream",
     "text": [
      "[1, 'a', 2, 10, 'a', 1, 10, 1]\n",
      "[1, 'a', 2, 'b', 'a', 1, 'b', 1]\n"
     ]
    }
   ],
   "source": [
    "old_list = [1, 'a', 2, 'b', 'a', 1, 'b', 1]\n",
    "new_list = replace_element(old_list, 'b', 10)\n",
    "print(new_list)\n",
    "print(old_list)"
   ]
  },
  {
   "cell_type": "markdown",
   "metadata": {},
   "source": [
    "#### Write a `replace_element_` function that replaces all occurrences of a particular element *in place*. That is, the function should not return anything; instead, its first argument should be *modified*. Be sure to include documentation using Google style docstrings, as done above."
   ]
  },
  {
   "cell_type": "code",
   "execution_count": 73,
   "metadata": {},
   "outputs": [],
   "source": [
    "def replace_element_(a_list, element, replacement):\n",
    "    \"\"\" Replace all occurrences of an element in a list IN PLACE.\n",
    "    \n",
    "    a_list is modified in place.\n",
    "    \n",
    "    Example:\n",
    "        old_list = [1, 'a', 2, 'b', 'a', 1, 'b', 1]\n",
    "        replace_element(old_list, 'b', 10)\n",
    "        # old_list is now [1, 'a', 2, 10, 'a', 1, 10, 1]\n",
    "    \n",
    "    Args:\n",
    "        a_list: A list.\n",
    "        element: The element to be replaced.\n",
    "        replacement: The replacement.\n",
    "    \n",
    "    Returns:\n",
    "        Nothing\n",
    "    \"\"\"\n",
    "    \n",
    "    # TODO: Replace with valid code.\n",
    "    for i in range(len(a_list)):\n",
    "        if a_list[i] == element:\n",
    "            a_list[i] = replacement"
   ]
  },
  {
   "cell_type": "markdown",
   "metadata": {},
   "source": [
    "#### Create an example list and verify that your `replace_element_` function modifies the list as intended."
   ]
  },
  {
   "cell_type": "code",
   "execution_count": 74,
   "metadata": {},
   "outputs": [
    {
     "name": "stdout",
     "output_type": "stream",
     "text": [
      "[100, 100, 100, 100, 100, 100, 100, 100]\n"
     ]
    }
   ],
   "source": [
    "inplace_list = [1, 1, 1, 1, 1, 1, 1, 1]\n",
    "replace_element_(inplace_list, 1, 100)\n",
    "print(inplace_list)"
   ]
  },
  {
   "cell_type": "markdown",
   "metadata": {},
   "source": [
    "### Indexing with Arbitrary Indices"
   ]
  },
  {
   "cell_type": "markdown",
   "metadata": {},
   "source": [
    "It is often useful to pluck out the elements from a list that are at specified indices."
   ]
  },
  {
   "cell_type": "code",
   "execution_count": 42,
   "metadata": {},
   "outputs": [
    {
     "name": "stdout",
     "output_type": "stream",
     "text": [
      "[1, 1, 2, 5, 12, 27, 58, 121, 248, 503, 1014, 2037, 4084, 8179, 16370, 32753]\n"
     ]
    }
   ],
   "source": [
    "some_indices = [2**i - i for i in range(16)]\n",
    "print(some_indices)"
   ]
  },
  {
   "cell_type": "markdown",
   "metadata": {},
   "source": [
    "#### Complete the following code to form `some_elements` by plucking out elements of `long_ish_string` according to `some_indices`."
   ]
  },
  {
   "cell_type": "code",
   "execution_count": 75,
   "metadata": {},
   "outputs": [
    {
     "name": "stdout",
     "output_type": "stream",
     "text": [
      "['h', 'h', 'i', 'i', 's', 't', 'i', ' ', 't', 't', 's', ' ', 't', 's', ' ', ' ']\n"
     ]
    }
   ],
   "source": [
    "# TODO: Replace with valid code.\n",
    "some_elements = [long_ish_string[i] for i in some_indices]\n",
    "print(some_elements)"
   ]
  },
  {
   "cell_type": "markdown",
   "metadata": {},
   "source": [
    "### Zip and String Formatting"
   ]
  },
  {
   "cell_type": "markdown",
   "metadata": {},
   "source": [
    "#### Loop through the following lists and print sentences such as 'Geoffrey Hinton is affiliated with U of T.' *without ever accessing the lists by index*."
   ]
  },
  {
   "cell_type": "code",
   "execution_count": 77,
   "metadata": {},
   "outputs": [
    {
     "name": "stdout",
     "output_type": "stream",
     "text": [
      "Geoffrey Hinton is affiliated with U of T.\n",
      "Yoshua Bengio is affiliated with U of M.\n",
      "Juergen Schmidhuber is affiliated with IDSIA.\n"
     ]
    }
   ],
   "source": [
    "first_names = ['Geoffrey', 'Yoshua', 'Juergen']\n",
    "last_names = ['Hinton', 'Bengio', 'Schmidhuber']\n",
    "affiliations = ['U of T', 'U of M', 'IDSIA']\n",
    "\n",
    "# TODO: Replace with valid code\n",
    "zipped_list = list(zip(first_names, last_names, affiliations))\n",
    "for i, elements in enumerate(zipped_list):\n",
    "    print(\"%s %s is affiliated with %s.\" % elements)\n"
   ]
  },
  {
   "cell_type": "code",
   "execution_count": null,
   "metadata": {},
   "outputs": [],
   "source": []
  }
 ],
 "metadata": {
  "kernelspec": {
   "display_name": "Python 3",
   "language": "python",
   "name": "python3"
  },
  "language_info": {
   "codemirror_mode": {
    "name": "ipython",
    "version": 3
   },
   "file_extension": ".py",
   "mimetype": "text/x-python",
   "name": "python",
   "nbconvert_exporter": "python",
   "pygments_lexer": "ipython3",
   "version": "3.6.4"
  }
 },
 "nbformat": 4,
 "nbformat_minor": 2
}
