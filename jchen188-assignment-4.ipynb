{
  "nbformat": 4,
  "nbformat_minor": 0,
  "metadata": {
    "colab": {
      "name": "jchen188-assignment-4.ipynb",
      "version": "0.3.2",
      "views": {},
      "default_view": {},
      "provenance": [
        {
          "file_id": "1LhcOfyZ8qn75yiEaURyuPouk_7-TILLX",
          "timestamp": 1519767802205
        },
        {
          "file_id": "1Qjg18V5qiXPoCx6hqlOxzzhg1H46WBx9",
          "timestamp": 1519311290452
        },
        {
          "file_id": "1_o37okDbeGwHpcNyzfqQs7Dlbz8hSndp",
          "timestamp": 1519161126232
        }
      ],
      "collapsed_sections": []
    },
    "kernelspec": {
      "name": "python3",
      "display_name": "Python 3"
    }
  },
  "cells": [
    {
      "metadata": {
        "id": "Cq1t9bGsDTvi",
        "colab_type": "text"
      },
      "cell_type": "markdown",
      "source": [
        "\n",
        "$$\n",
        "\\newcommand{\\xb}{\\boldsymbol{x}}\n",
        "\\newcommand{\\wb}{\\boldsymbol{w}}\n",
        "\\newcommand{\\pb}{\\boldsymbol{p}}\n",
        "\\newcommand{\\1}{\\mathbb{1}}\n",
        "$$"
      ]
    },
    {
      "metadata": {
        "id": "bfyI_9zZPwsa",
        "colab_type": "text"
      },
      "cell_type": "markdown",
      "source": [
        "# Logistic Regression with NumPy\n",
        "\n",
        "Version 2\n",
        "\n",
        "**I would suggest using this version of the notebook. However, if you'd like to, you can continue using version 1; just be sure to pay attention to the changes (as discussed in the lab).**\n",
        "\n",
        "This this lab you'll develop a simple classifier using binary logistic regression to classify images of digits as either 4 or 9. All images, both during training and at test time, will be either a 4 or a 9.\n",
        "\n",
        "Your implementation will focus on concepts: whenever possible, we will stick with clear notations and one-to-one mapping with equations, rather than manipulating those equations and/or the computations for efficiency and numerical stability."
      ]
    },
    {
      "metadata": {
        "id": "r3ce0VVgXqQ2",
        "colab_type": "code",
        "colab": {
          "autoexec": {
            "startup": false,
            "wait_interval": 0
          },
          "output_extras": [
            {
              "item_id": 53
            }
          ],
          "base_uri": "https://localhost:8080/",
          "height": 391
        },
        "outputId": "25499712-716f-42c7-902b-6ae0e4a1fb05",
        "executionInfo": {
          "status": "ok",
          "timestamp": 1520201350826,
          "user_tz": 300,
          "elapsed": 93227,
          "user": {
            "displayName": "James Chen",
            "photoUrl": "https://lh3.googleusercontent.com/a/default-user=s128",
            "userId": "116807333779983164530"
          }
        }
      },
      "cell_type": "code",
      "source": [
        "!pip3 install http://download.pytorch.org/whl/cu80/torch-0.3.0.post4-cp36-cp36m-linux_x86_64.whl\n",
        "!pip3 install torchvision"
      ],
      "execution_count": 1,
      "outputs": [
        {
          "output_type": "stream",
          "text": [
            "Collecting torch==0.3.0.post4 from http://download.pytorch.org/whl/cu80/torch-0.3.0.post4-cp36-cp36m-linux_x86_64.whl\n",
            "  Downloading http://download.pytorch.org/whl/cu80/torch-0.3.0.post4-cp36-cp36m-linux_x86_64.whl (592.3MB)\n",
            "\u001b[K    100% |████████████████████████████████| 592.3MB 53.6MB/s \n",
            "\u001b[?25hRequirement already satisfied: pyyaml in /usr/local/lib/python3.6/dist-packages (from torch==0.3.0.post4)\n",
            "Requirement already satisfied: numpy in /usr/local/lib/python3.6/dist-packages (from torch==0.3.0.post4)\n",
            "Installing collected packages: torch\n",
            "Successfully installed torch-0.3.0.post4\n",
            "Collecting torchvision\n",
            "  Downloading torchvision-0.2.0-py2.py3-none-any.whl (48kB)\n",
            "\u001b[K    100% |████████████████████████████████| 51kB 2.8MB/s \n",
            "\u001b[?25hRequirement already satisfied: numpy in /usr/local/lib/python3.6/dist-packages (from torchvision)\n",
            "Collecting pillow>=4.1.1 (from torchvision)\n",
            "  Downloading Pillow-5.0.0-cp36-cp36m-manylinux1_x86_64.whl (5.9MB)\n",
            "\u001b[K    100% |████████████████████████████████| 5.9MB 224kB/s \n",
            "\u001b[?25hRequirement already satisfied: six in /usr/local/lib/python3.6/dist-packages (from torchvision)\n",
            "Requirement already satisfied: torch in /usr/local/lib/python3.6/dist-packages (from torchvision)\n",
            "Requirement already satisfied: pyyaml in /usr/local/lib/python3.6/dist-packages (from torch->torchvision)\n",
            "Installing collected packages: pillow, torchvision\n",
            "  Found existing installation: Pillow 4.0.0\n",
            "    Uninstalling Pillow-4.0.0:\n",
            "      Successfully uninstalled Pillow-4.0.0\n",
            "Successfully installed pillow-5.0.0 torchvision-0.2.0\n"
          ],
          "name": "stdout"
        }
      ]
    },
    {
      "metadata": {
        "id": "mKqJ2q6XalPc",
        "colab_type": "code",
        "colab": {
          "autoexec": {
            "startup": false,
            "wait_interval": 0
          }
        }
      },
      "cell_type": "code",
      "source": [
        "%matplotlib inline\n",
        "import matplotlib.pyplot as plt\n",
        "import numpy as np\n",
        "import time\n",
        "\n",
        "# Numerically stable version of the sigmoid function\n",
        "# sigmoid(x) = 1 / (1 + exp(-x))\n",
        "from scipy.special import expit\n",
        "\n",
        "import torchvision\n",
        "\n",
        "from pathlib import Path\n",
        "HOME = Path.home()\n",
        "MNIST_PATH = HOME / 'data' / 'mnist'\n",
        "\n",
        "NUM_CLASSES = 10\n",
        "CHANNELS = 1\n",
        "HEIGHT = 28\n",
        "WIDTH = 28"
      ],
      "execution_count": 0,
      "outputs": []
    },
    {
      "metadata": {
        "id": "ThF_mw3iasJ2",
        "colab_type": "code",
        "colab": {
          "autoexec": {
            "startup": false,
            "wait_interval": 0
          },
          "output_extras": [
            {
              "item_id": 5
            }
          ],
          "base_uri": "https://localhost:8080/",
          "height": 119
        },
        "outputId": "bff471a1-ded4-423c-8811-70a763a17bbe",
        "executionInfo": {
          "status": "ok",
          "timestamp": 1520201785706,
          "user_tz": 300,
          "elapsed": 32127,
          "user": {
            "displayName": "James Chen",
            "photoUrl": "https://lh3.googleusercontent.com/a/default-user=s128",
            "userId": "116807333779983164530"
          }
        }
      },
      "cell_type": "code",
      "source": [
        "# We're going to load the official train set and never touch\n",
        "# the true test set in these experiments, which consists of 10,000\n",
        "# separate examples. We'll instead split our training set into\n",
        "# a set for training and a set for validation.\n",
        "official_mnist_train = torchvision.datasets.MNIST(str(MNIST_PATH), train=True, download=True)\n",
        "official_train_images = official_mnist_train.train_data.numpy().astype(np.float)\n",
        "official_train_labels = official_mnist_train.train_labels.numpy().astype(np.int)"
      ],
      "execution_count": 3,
      "outputs": [
        {
          "output_type": "stream",
          "text": [
            "Downloading http://yann.lecun.com/exdb/mnist/train-images-idx3-ubyte.gz\n",
            "Downloading http://yann.lecun.com/exdb/mnist/train-labels-idx1-ubyte.gz\n",
            "Downloading http://yann.lecun.com/exdb/mnist/t10k-images-idx3-ubyte.gz\n",
            "Downloading http://yann.lecun.com/exdb/mnist/t10k-labels-idx1-ubyte.gz\n",
            "Processing...\n",
            "Done!\n"
          ],
          "name": "stdout"
        }
      ]
    },
    {
      "metadata": {
        "id": "cdhHhkpFxTUV",
        "colab_type": "code",
        "colab": {
          "autoexec": {
            "startup": false,
            "wait_interval": 0
          },
          "output_extras": [
            {
              "item_id": 1
            }
          ],
          "base_uri": "https://localhost:8080/",
          "height": 51
        },
        "outputId": "610459cf-8d09-4abe-a0b4-1218113fc677",
        "executionInfo": {
          "status": "ok",
          "timestamp": 1520201799357,
          "user_tz": 300,
          "elapsed": 251,
          "user": {
            "displayName": "James Chen",
            "photoUrl": "https://lh3.googleusercontent.com/a/default-user=s128",
            "userId": "116807333779983164530"
          }
        }
      },
      "cell_type": "code",
      "source": [
        "print(official_train_images.shape)\n",
        "print(official_train_labels.shape)"
      ],
      "execution_count": 4,
      "outputs": [
        {
          "output_type": "stream",
          "text": [
            "(60000, 28, 28)\n",
            "(60000,)\n"
          ],
          "name": "stdout"
        }
      ]
    },
    {
      "metadata": {
        "id": "IoK_fYnT2u-g",
        "colab_type": "text"
      },
      "cell_type": "markdown",
      "source": [
        "First let's grab only the 4s and 9s, which will end up forming our binary classification problem."
      ]
    },
    {
      "metadata": {
        "id": "xBsaqsTlbwcf",
        "colab_type": "code",
        "colab": {
          "autoexec": {
            "startup": false,
            "wait_interval": 0
          },
          "output_extras": [
            {
              "item_id": 1
            }
          ],
          "base_uri": "https://localhost:8080/",
          "height": 34
        },
        "outputId": "9854a344-c67c-4d93-b9c9-9f821ba61f0f",
        "executionInfo": {
          "status": "ok",
          "timestamp": 1520201802210,
          "user_tz": 300,
          "elapsed": 238,
          "user": {
            "displayName": "James Chen",
            "photoUrl": "https://lh3.googleusercontent.com/a/default-user=s128",
            "userId": "116807333779983164530"
          }
        }
      },
      "cell_type": "code",
      "source": [
        "mask_4_9 = (official_train_labels == 4) | (official_train_labels == 9)\n",
        "images_4_9 = official_train_images[mask_4_9]\n",
        "labels_4_9 = (official_train_labels[mask_4_9] == 9).astype(np.int)\n",
        "print(images_4_9.shape, labels_4_9.shape)"
      ],
      "execution_count": 5,
      "outputs": [
        {
          "output_type": "stream",
          "text": [
            "(11791, 28, 28) (11791,)\n"
          ],
          "name": "stdout"
        }
      ]
    },
    {
      "metadata": {
        "id": "bT6yab5ExnTT",
        "colab_type": "text"
      },
      "cell_type": "markdown",
      "source": [
        "**Write code that concatenates the first 10 images together, horizontally. Visualize the result (using `plt.imshow`), and print the first 10 labels that correspond to these images. Make sure the labels are binary: 0 if the image is a 4 and 1 if the image is a 9.**"
      ]
    },
    {
      "metadata": {
        "id": "RJxxlEjhcpW9",
        "colab_type": "code",
        "colab": {
          "autoexec": {
            "startup": false,
            "wait_interval": 0
          },
          "output_extras": [
            {
              "item_id": 1
            },
            {
              "item_id": 2
            }
          ],
          "base_uri": "https://localhost:8080/",
          "height": 102
        },
        "outputId": "72790964-33b7-46d4-acf6-2577130a3dc8",
        "executionInfo": {
          "status": "ok",
          "timestamp": 1520201804894,
          "user_tz": 300,
          "elapsed": 270,
          "user": {
            "displayName": "James Chen",
            "photoUrl": "https://lh3.googleusercontent.com/a/default-user=s128",
            "userId": "116807333779983164530"
          }
        }
      },
      "cell_type": "code",
      "source": [
        "example_images = np.concatenate(images_4_9[:10], axis=1)\n",
        "example_labels = labels_4_9[:10]\n",
        "print(example_labels)\n",
        "plt.imshow(example_images)\n",
        "plt.grid(False)"
      ],
      "execution_count": 6,
      "outputs": [
        {
          "output_type": "stream",
          "text": [
            "[0 1 0 1 0 1 0 1 1 1]\n"
          ],
          "name": "stdout"
        },
        {
          "output_type": "display_data",
          "data": {
            "image/png": "[encoded data removed]",
            "text/plain": [
              "<matplotlib.figure.Figure at 0x7fd6d55e4ef0>"
            ]
          },
          "metadata": {
            "tags": []
          }
        }
      ]
    },
    {
      "metadata": {
        "id": "gCMp4Xk6yX2v",
        "colab_type": "text"
      },
      "cell_type": "markdown",
      "source": [
        "**Use `np.split` to split `images_4_9` into `train_images` and `val_images`, and `labels_4_9` into `train_labels` and `val_labels`. Use 10000 images for training and the rest for validation.**"
      ]
    },
    {
      "metadata": {
        "id": "E60IytczeT22",
        "colab_type": "code",
        "colab": {
          "autoexec": {
            "startup": false,
            "wait_interval": 0
          }
        }
      },
      "cell_type": "code",
      "source": [
        "train_images, val_images = np.split(images_4_9, [10000])\n",
        "train_labels, val_labels = np.split(labels_4_9, [10000])"
      ],
      "execution_count": 0,
      "outputs": []
    },
    {
      "metadata": {
        "id": "vD9CB1sAy8PJ",
        "colab_type": "text"
      },
      "cell_type": "markdown",
      "source": [
        "**Print the shapes of `train_images`, `train_labels`, `val_images`, and `val_labels`. Make sure that there are 10000 images for training and 1791 for validation.**"
      ]
    },
    {
      "metadata": {
        "id": "4uReKYU4y5k0",
        "colab_type": "code",
        "colab": {
          "autoexec": {
            "startup": false,
            "wait_interval": 0
          },
          "output_extras": [
            {
              "item_id": 1
            }
          ],
          "base_uri": "https://localhost:8080/",
          "height": 51
        },
        "outputId": "c9ea2c65-eee9-4692-c5f6-a0c210677683",
        "executionInfo": {
          "status": "ok",
          "timestamp": 1520201808632,
          "user_tz": 300,
          "elapsed": 232,
          "user": {
            "displayName": "James Chen",
            "photoUrl": "https://lh3.googleusercontent.com/a/default-user=s128",
            "userId": "116807333779983164530"
          }
        }
      },
      "cell_type": "code",
      "source": [
        "print(train_images.shape, train_labels.shape)\n",
        "print(val_images.shape, val_labels.shape)"
      ],
      "execution_count": 8,
      "outputs": [
        {
          "output_type": "stream",
          "text": [
            "(10000, 28, 28) (10000,)\n",
            "(1791, 28, 28) (1791,)\n"
          ],
          "name": "stdout"
        }
      ]
    },
    {
      "metadata": {
        "id": "panpDaWKzN0f",
        "colab_type": "text"
      },
      "cell_type": "markdown",
      "source": [
        "**Complete `normalize_stats_image_by_image` so that images are normalized on a *per image basis*.**"
      ]
    },
    {
      "metadata": {
        "id": "ZJsU5u9WhBzN",
        "colab_type": "code",
        "colab": {
          "autoexec": {
            "startup": false,
            "wait_interval": 0
          }
        }
      },
      "cell_type": "code",
      "source": [
        "def normalize_stats_image_by_image(images):\n",
        "  mean = images.mean(axis=(1,2), keepdims=True)\n",
        "  stdev = images.std(axis=(1,2), keepdims=True)\n",
        "  return (images - mean) / stdev"
      ],
      "execution_count": 0,
      "outputs": []
    },
    {
      "metadata": {
        "id": "4wMdDQGSzl5t",
        "colab_type": "text"
      },
      "cell_type": "markdown",
      "source": [
        "**Use `normalize_stats_image_by_image` to replace the training and validation images with their normalized versions.**"
      ]
    },
    {
      "metadata": {
        "id": "dL9XyAMYk8qs",
        "colab_type": "code",
        "colab": {
          "autoexec": {
            "startup": false,
            "wait_interval": 0
          }
        }
      },
      "cell_type": "code",
      "source": [
        "train_images = normalize_stats_image_by_image(train_images)\n",
        "val_images = normalize_stats_image_by_image(val_images)"
      ],
      "execution_count": 0,
      "outputs": []
    },
    {
      "metadata": {
        "id": "7r81_AeB0NNF",
        "colab_type": "text"
      },
      "cell_type": "markdown",
      "source": [
        "**Print the mean and standard deviation *of the first 3 images* of the training set, and do the same for the validation set. Make sure that all 3 means are very close to 0 and that all 3 standard deviations are very close to 1.**"
      ]
    },
    {
      "metadata": {
        "id": "lgIXQ0QO0NUy",
        "colab_type": "code",
        "colab": {
          "autoexec": {
            "startup": false,
            "wait_interval": 0
          },
          "output_extras": [
            {
              "item_id": 1
            }
          ],
          "base_uri": "https://localhost:8080/",
          "height": 85
        },
        "outputId": "6b578a87-c018-4555-eacb-f2b169e9bc25",
        "executionInfo": {
          "status": "ok",
          "timestamp": 1520201813700,
          "user_tz": 300,
          "elapsed": 257,
          "user": {
            "displayName": "James Chen",
            "photoUrl": "https://lh3.googleusercontent.com/a/default-user=s128",
            "userId": "116807333779983164530"
          }
        }
      },
      "cell_type": "code",
      "source": [
        "print(train_images[:3].mean(axis=(1, 2)))\n",
        "print(train_images[:3].std(axis=(1, 2)))\n",
        "print(val_images[:3].mean(axis=(1, 2)))\n",
        "print(val_images[:3].std(axis=(1, 2)))"
      ],
      "execution_count": 11,
      "outputs": [
        {
          "output_type": "stream",
          "text": [
            "[9.06304510e-18 1.81260902e-17 4.07837029e-17]\n",
            "[1. 1. 1.]\n",
            "[-9.06304510e-18  0.00000000e+00  1.17819586e-16]\n",
            "[1. 1. 1.]\n"
          ],
          "name": "stdout"
        }
      ]
    },
    {
      "metadata": {
        "id": "zXeAIHWozzso",
        "colab_type": "text"
      },
      "cell_type": "markdown",
      "source": [
        "**Concatenate 10 train images and 10 validation images together into a single array and visualize the result using `plt.imshow`.**"
      ]
    },
    {
      "metadata": {
        "id": "9VQgqbB7bUFz",
        "colab_type": "code",
        "colab": {
          "autoexec": {
            "startup": false,
            "wait_interval": 0
          },
          "output_extras": [
            {
              "item_id": 1
            }
          ],
          "base_uri": "https://localhost:8080/",
          "height": 118
        },
        "outputId": "fc9cbe12-99ea-4237-e6f2-2b34e9a50592",
        "executionInfo": {
          "status": "ok",
          "timestamp": 1520201815965,
          "user_tz": 300,
          "elapsed": 305,
          "user": {
            "displayName": "James Chen",
            "photoUrl": "https://lh3.googleusercontent.com/a/default-user=s128",
            "userId": "116807333779983164530"
          }
        }
      },
      "cell_type": "code",
      "source": [
        "some_train_images = np.concatenate(train_images[:10], axis=1)\n",
        "some_val_images = np.concatenate(val_images[:10], axis=1)\n",
        "some_train_and_val_images = np.concatenate([some_train_images, some_val_images], axis=0)\n",
        "plt.imshow(some_train_and_val_images)\n",
        "plt.grid(False)"
      ],
      "execution_count": 12,
      "outputs": [
        {
          "output_type": "display_data",
          "data": {
            "image/png": "[encoded data removed]",
            "text/plain": [
              "<matplotlib.figure.Figure at 0x7fd6d55e4c18>"
            ]
          },
          "metadata": {
            "tags": []
          }
        }
      ]
    },
    {
      "metadata": {
        "id": "wZlPIpgSX26w",
        "colab_type": "text"
      },
      "cell_type": "markdown",
      "source": [
        "**Form `train_vectors` and `val_vectors` by reshaping the images into *vectors*. That is, flatten each image so that instead of being 28 x 28 matrix it's a vector with 28 * 28 dimensions.**"
      ]
    },
    {
      "metadata": {
        "id": "BmXdidmRm0jh",
        "colab_type": "code",
        "colab": {
          "autoexec": {
            "startup": false,
            "wait_interval": 0
          }
        }
      },
      "cell_type": "code",
      "source": [
        "train_vectors = train_images.reshape(-1, HEIGHT * WIDTH)\n",
        "val_vectors = val_images.reshape(-1, HEIGHT * WIDTH)"
      ],
      "execution_count": 0,
      "outputs": []
    },
    {
      "metadata": {
        "id": "XUv0UFJBCV8b",
        "colab_type": "text"
      },
      "cell_type": "markdown",
      "source": [
        "For any particular example $\\xb$, we're modeling $p(y \\mid \\xb)$ as\n",
        "\n",
        "$$\n",
        "\\hat{p}(y = 0) = \\sigma(\\wb^T\\xb), \\qquad\n",
        "\\hat{p}(y = 1) = 1 - \\hat{p}(y = 0)\n",
        "$$\n",
        "\n",
        "where here the label $y = 0$ specifies that our image is a 4, and the label $y = 1$ specifies that our image is a 9."
      ]
    },
    {
      "metadata": {
        "id": "KAie7ICn06MI",
        "colab_type": "text"
      },
      "cell_type": "markdown",
      "source": [
        "**Complete the `model` function below so that it corresponds to simple logistic regression. You can use `expit`, a numerically-stable version of the sigmoid function.**"
      ]
    },
    {
      "metadata": {
        "id": "4tG3Wu1FYegm",
        "colab_type": "code",
        "colab": {
          "autoexec": {
            "startup": false,
            "wait_interval": 0
          }
        }
      },
      "cell_type": "code",
      "source": [
        "def model(X, w):\n",
        "  \"\"\"Binary logistic regression.\n",
        "  \n",
        "  Hint: You should vectorize all operations, as discussed in class.\n",
        "  In other words, you should not use any loops, as if you your\n",
        "  code will likely be tremendously slow.\n",
        "  \n",
        "  Hint: Think about the shape of X, and for the moment pretend that\n",
        "  w is a column vector (rather than a 1-D array). Our goal is to\n",
        "  compute w'x for every example x in X. Does this correspond to\n",
        "  w' @ X or X @ w?\n",
        "  \n",
        "  Args:\n",
        "    X: A float NumPy array with shape\n",
        "      [num_examples, num_features].\n",
        "    w: A float NumPy array with shape [num_features].\n",
        "    \n",
        "  Returns:\n",
        "    A float NumPy array p_hat of probabilities with shape\n",
        "      [num_examples, 2]. For example i, we have\n",
        "      p_hat[i, :] = [sigmoid(w'x), 1 - sigmoid(w'x)]\n",
        "  \"\"\"\n",
        "  p_hat0 = expit(X@w.reshape((-1,1)))\n",
        "  p_hat1 = 1 - expit(X@w.reshape((-1,1)))\n",
        "  p_hat = np.concatenate((p_hat0, p_hat1), axis = 1)\n",
        "  return p_hat"
      ],
      "execution_count": 0,
      "outputs": []
    },
    {
      "metadata": {
        "id": "5J3u24mkDDta",
        "colab_type": "text"
      },
      "cell_type": "markdown",
      "source": [
        "The loss for a *single* example is\n",
        "$$\n",
        "\\begin{align}\n",
        "l(\\hat{\\pb}, \\pb)\n",
        "&= -\\sum_i p_i \\log \\hat{p}_i \\\\\n",
        "&= - \\1(y = 0) \\log \\sigma(\\wb^T\\xb) - \\1(y = 1) \\log (1 - \\sigma(\\wb^T\\xb))\n",
        "\\end{align}\n",
        "$$"
      ]
    },
    {
      "metadata": {
        "id": "K5x4KAF61eQi",
        "colab_type": "text"
      },
      "cell_type": "markdown",
      "source": [
        "**Complete the `binary_cross_entropy` function below.**"
      ]
    },
    {
      "metadata": {
        "id": "_bE7qx_QhnTn",
        "colab_type": "code",
        "colab": {
          "autoexec": {
            "startup": false,
            "wait_interval": 0
          }
        }
      },
      "cell_type": "code",
      "source": [
        "def binary_cross_entropy(p_hat, y):\n",
        "  \"\"\"Cross entropy loss.\n",
        "  \n",
        "  PAY ATTENTION TO THE SHAPES OF THE ARGUMENTS, AND\n",
        "  WHAT THESE ARGUMENTS REPRESENT.\n",
        "  \n",
        "  Hint: You can compute cross entropy on a per-example basis,\n",
        "  and then just compute the mean of the resulting values.\n",
        "  \n",
        "  Hint: Think of the indicator function above in terms of masks in\n",
        "  NumPy.\n",
        "  \n",
        "  Args:\n",
        "    p_hat: A float NumPy array with shape [num_examples, 2].\n",
        "    y: An int NumPy array with shape [num_examples].\n",
        "  \n",
        "  Returns:\n",
        "    A float: the cross entropy averaged across all of the examples.\n",
        "  \"\"\"\n",
        "  loss = np.zeros((y.shape[0], ))\n",
        "  loss[y==0] = -1 * np.log(p_hat[y == 0][:,0])\n",
        "  loss[y==1] = -1 * np.log(p_hat[y == 1][:,1])\n",
        "  return np.mean(loss)"
      ],
      "execution_count": 0,
      "outputs": []
    },
    {
      "metadata": {
        "id": "uo06gUsm8jGt",
        "colab_type": "text"
      },
      "cell_type": "markdown",
      "source": [
        "The *Jacobian* for a *single* example is\n",
        "\n",
        "$$\\frac{\\partial l}{\\partial \\wb} = -\\1(y = 0) \\left(1 - \\sigma(\\wb^T\\xb)\\right) \\xb^T + \\1(y = 1) \\sigma(\\wb^T\\xb) \\xb^T$$"
      ]
    },
    {
      "metadata": {
        "id": "wrxc94io1so3",
        "colab_type": "text"
      },
      "cell_type": "markdown",
      "source": [
        "**Complete the `binary_cross_entropy_grad` function below.**"
      ]
    },
    {
      "metadata": {
        "id": "Iwlc7_ZnhFyn",
        "colab_type": "code",
        "colab": {
          "autoexec": {
            "startup": false,
            "wait_interval": 0
          }
        }
      },
      "cell_type": "code",
      "source": [
        "def binary_cross_entropy_grad(X, w, y):\n",
        "  \"\"\"Gradients for binary logistic regression.\n",
        "  \n",
        "  Hint: You can compute the gradient on a per-example basis,\n",
        "  and then just average these gradients over all examples.\n",
        "  (This follows from the fact that the gradient of a sum\n",
        "  is the sum of the gradients; in other words, the derivative\n",
        "  operator 'pushes through' summations.)\n",
        "  \n",
        "  Args:\n",
        "    X: A float NumPy array with shape\n",
        "      [num_examples, num_features].\n",
        "    w: A float NumPy array with shape [num_features].\n",
        "    y: An int NumPy array with shape [num_examples].\n",
        "  \n",
        "  Returns:\n",
        "    A float NumPy array w_grad with shape [num_features]. This is We have\n",
        "    w_grad[i] = dl/dw[i], where l is the cross entropy between\n",
        "    our empirical distribution and the distribution from our model.\n",
        "    The resulting gradient should be averaged over all examples.\n",
        "  \"\"\"\n",
        "  p_hat = model(X, w)\n",
        "  grad = np.zeros((w.shape[0], y.shape[0]))\n",
        "  grad[:,y==0] = (-1 * p_hat[y == 0][:,1]) * X[y==0].T \n",
        "  grad[:,y==1] = (1 * p_hat[y == 1][:,0] * X[y==1].T)\n",
        "  return np.mean(grad, axis = 1)"
      ],
      "execution_count": 0,
      "outputs": []
    },
    {
      "metadata": {
        "id": "-Y20sa9m1w9b",
        "colab_type": "text"
      },
      "cell_type": "markdown",
      "source": [
        "**Complete the `error_rate` function below.**"
      ]
    },
    {
      "metadata": {
        "id": "LOM41i9ZwcAt",
        "colab_type": "code",
        "colab": {
          "autoexec": {
            "startup": false,
            "wait_interval": 0
          }
        }
      },
      "cell_type": "code",
      "source": [
        "def error_rate(p_hat, y):\n",
        "  \"\"\"Error rate.\n",
        "  \n",
        "  PAY ATTENTION TO THE SHAPES OF THE ARGUMENTS, AND\n",
        "  WHAT THESE ARGUMENTS REPRESENT.\n",
        "  \n",
        "  Args:\n",
        "    p_hat: A float NumPy array with shape [num_examples, 2].\n",
        "    y: An int NumPy array with shape [num_examples].\n",
        "  \n",
        "  Returns:\n",
        "    A float between 0.0 and 1.0.\n",
        "  \"\"\"\n",
        "  y_hat = np.argmax(p_hat, axis=1)\n",
        "  #print(y_hat)\n",
        "  error_rate = 1 - (np.sum(y_hat == y)/y.size)\n",
        "  return error_rate"
      ],
      "execution_count": 0,
      "outputs": []
    },
    {
      "metadata": {
        "id": "GWkrWcPD2Q15",
        "colab_type": "text"
      },
      "cell_type": "markdown",
      "source": [
        "**Run the following code block to define the function `random_train_batch`. (We've written it for you.)**![alt text](https://)"
      ]
    },
    {
      "metadata": {
        "id": "9AW4teo2dlhI",
        "colab_type": "code",
        "colab": {
          "autoexec": {
            "startup": false,
            "wait_interval": 0
          }
        }
      },
      "cell_type": "code",
      "source": [
        "def random_train_batch(batch_size):\n",
        "  random_ind = np.random.choice(train_vectors.shape[0], size=batch_size, replace=False)\n",
        "  return train_vectors[random_ind], train_labels[random_ind]"
      ],
      "execution_count": 0,
      "outputs": []
    },
    {
      "metadata": {
        "id": "My_yUmZ24_03",
        "colab_type": "text"
      },
      "cell_type": "markdown",
      "source": [
        "**Run the following code block to initializes your weights `w`, and to define your batch size, learning rate, and other parameters.**\n",
        "\n",
        "(We'll begin with a batch size of 100, a learning rate of 1e-5, and we'll take 10000 optimization steps, logging our performance every 10 steps.)"
      ]
    },
    {
      "metadata": {
        "id": "eBWMrQcofJye",
        "colab_type": "code",
        "colab": {
          "autoexec": {
            "startup": false,
            "wait_interval": 0
          }
        }
      },
      "cell_type": "code",
      "source": [
        "w = 0.01 * np.random.randn(HEIGHT * WIDTH)\n",
        "batch_size = 100\n",
        "learning_rate = 1e-3\n",
        "num_steps = 10000\n",
        "num_steps_per_log = 10"
      ],
      "execution_count": 0,
      "outputs": []
    },
    {
      "metadata": {
        "id": "zUjncIlo5YH-",
        "colab_type": "text"
      },
      "cell_type": "markdown",
      "source": [
        "**Run the following block of code to run all of our validation examples through our model, and to visualize the first validation example along with the prediction of our model. (Before training, we expect it to be garbage.)**"
      ]
    },
    {
      "metadata": {
        "id": "qHRNDo4d2Jtc",
        "colab_type": "code",
        "colab": {
          "autoexec": {
            "startup": false,
            "wait_interval": 0
          },
          "output_extras": [
            {
              "item_id": 1
            },
            {
              "item_id": 2
            }
          ],
          "base_uri": "https://localhost:8080/",
          "height": 282
        },
        "outputId": "1422cb31-e7fa-47f5-e0a5-f12a2ca30650",
        "executionInfo": {
          "status": "ok",
          "timestamp": 1520202935211,
          "user_tz": 300,
          "elapsed": 385,
          "user": {
            "displayName": "James Chen",
            "photoUrl": "https://lh3.googleusercontent.com/a/default-user=s128",
            "userId": "116807333779983164530"
          }
        }
      },
      "cell_type": "code",
      "source": [
        "X_val = val_vectors\n",
        "p_hat_val = model(X_val, w)\n",
        "\n",
        "plt.subplot(1, 2, 1)\n",
        "plt.imshow(X_val[0].reshape(HEIGHT, WIDTH))\n",
        "plt.grid(False)\n",
        "plt.subplot(1, 2, 2)\n",
        "plt.plot(p_hat_val[0], 'o')"
      ],
      "execution_count": 57,
      "outputs": [
        {
          "output_type": "execute_result",
          "data": {
            "text/plain": [
              "[<matplotlib.lines.Line2D at 0x7fd6d8e951d0>]"
            ]
          },
          "metadata": {
            "tags": []
          },
          "execution_count": 57
        },
        {
          "output_type": "display_data",
          "data": {
            "image/png": "[encoded data removed]",
            "text/plain": [
              "<matplotlib.figure.Figure at 0x7fd6d967d630>"
            ]
          },
          "metadata": {
            "tags": []
          }
        }
      ]
    },
    {
      "metadata": {
        "id": "9bfsV3Mv5vEW",
        "colab_type": "text"
      },
      "cell_type": "markdown",
      "source": [
        "**Complete the following block of code by filling in the TODOs.**"
      ]
    },
    {
      "metadata": {
        "id": "0f3YkYzTua4m",
        "colab_type": "code",
        "colab": {
          "autoexec": {
            "startup": false,
            "wait_interval": 0
          }
        }
      },
      "cell_type": "code",
      "source": [
        "X_val, y_val = val_vectors, val_labels\n",
        "log_names = ['step', 'time', 'train loss', 'val loss', 'train error rate', 'val error rate']\n",
        "logs = []\n",
        "best_val_error_rate = 1.0\n",
        "best_w = w\n",
        "start_time = time.time()\n",
        "for step in range(num_steps):\n",
        "  \n",
        "  X_train, y_train = random_train_batch(batch_size)\n",
        "  \n",
        "  if step % num_steps_per_log == 0:\n",
        "    \n",
        "    t = time.time() - start_time\n",
        "    \n",
        "    # TODO: Complete this section.\n",
        "    p_hat_train = model(X_train, w)\n",
        "    train_loss = binary_cross_entropy(p_hat_train, y_train)\n",
        "    train_error_rate = error_rate(p_hat_train, y_train)\n",
        "    \n",
        "    # TODO: Complete this section.\n",
        "    p_hat_val = model(X_val, w)\n",
        "    val_loss = binary_cross_entropy(p_hat_val, y_val)\n",
        "    val_error_rate = error_rate(p_hat_val, y_val)\n",
        "    \n",
        "    if val_error_rate < best_val_error_rate:\n",
        "      best_val_error_rate = val_error_rate\n",
        "      best_w = w\n",
        "    \n",
        "    logs.append([step, t, train_loss, val_loss, train_error_rate, val_error_rate])\n",
        "  \n",
        "  w_grad = binary_cross_entropy_grad(X_train, w ,y_train) # TODO: Fill in this line.\n",
        "  w -= learning_rate * w_grad"
      ],
      "execution_count": 0,
      "outputs": []
    },
    {
      "metadata": {
        "id": "hGhi_amsyBqb",
        "colab_type": "code",
        "colab": {
          "autoexec": {
            "startup": false,
            "wait_interval": 0
          },
          "output_extras": [
            {
              "item_id": 1
            },
            {
              "item_id": 2
            }
          ],
          "base_uri": "https://localhost:8080/",
          "height": 296
        },
        "outputId": "0367a65f-511e-4c4c-bc42-37d57d26878f",
        "executionInfo": {
          "status": "ok",
          "timestamp": 1520203133612,
          "user_tz": 300,
          "elapsed": 412,
          "user": {
            "displayName": "James Chen",
            "photoUrl": "https://lh3.googleusercontent.com/a/default-user=s128",
            "userId": "116807333779983164530"
          }
        }
      },
      "cell_type": "code",
      "source": [
        "_, x, y11, y12, y21, y22 = zip(*logs)\n",
        "fig, ax = plt.subplots(2, 1, sharex=True)\n",
        "ax[0].plot(x, y11, x, y12)\n",
        "ax[1].plot(x, y21, x, y22)\n",
        "plt.xlabel('Time (s)')\n",
        "print('Best val error rate: {:.2f}'.format(best_val_error_rate))"
      ],
      "execution_count": 61,
      "outputs": [
        {
          "output_type": "stream",
          "text": [
            "Best val error rate: 0.03\n"
          ],
          "name": "stdout"
        },
        {
          "output_type": "display_data",
          "data": {
            "image/png": "[encoded data removed]",
            "text/plain": [
              "<matplotlib.figure.Figure at 0x7fd6d8c1f5c0>"
            ]
          },
          "metadata": {
            "tags": []
          }
        }
      ]
    },
    {
      "metadata": {
        "id": "xEKN6REc83da",
        "colab_type": "text"
      },
      "cell_type": "markdown",
      "source": [
        "**In the following Markdown Cell, answer:**\n",
        "\n",
        "**We took 10000 optimization steps, each with a batch size of 100 and a learning rate of 1e-5. Did the validation loss stabilize? What was the best validation error rate that you achieved?**"
      ]
    },
    {
      "metadata": {
        "id": "BVLJuXfc839Y",
        "colab_type": "text"
      },
      "cell_type": "markdown",
      "source": [
        "Val Loss does not really stabilize until after 13 seconds. The best validation error rate achieved was 0.10."
      ]
    },
    {
      "metadata": {
        "id": "CeSRNHza6f5I",
        "colab_type": "text"
      },
      "cell_type": "markdown",
      "source": [
        "**Repeat the above experiment, but with a learning rate of 1e-3.**\n",
        "\n",
        "**Then, in the following Markdown Cell, answer:**\n",
        "\n",
        "**We took 10000 optimization steps, each with a batch size of 100 and a learning rate of 1e-3. Did the validation loss stabilize? What was the best validation error rate that you achieved? Is there any evidence of overfitting here?**"
      ]
    },
    {
      "metadata": {
        "id": "mHPpO-hH6pN9",
        "colab_type": "text"
      },
      "cell_type": "markdown",
      "source": [
        "The validation loss does stabilize after 1 second. The best validation error rate achieved was 0.03. It does not appear to be overfitting here as the validation performance is higher than the training performance. The validation loss seems to be lower than the training loss."
      ]
    },
    {
      "metadata": {
        "id": "39WyFC25-ssj",
        "colab_type": "text"
      },
      "cell_type": "markdown",
      "source": [
        "**Run the following block of code to run all of our validation examples through our model, and to visualize the first validation example along with the prediction of our model.**"
      ]
    },
    {
      "metadata": {
        "id": "uBFzpOpp4rvh",
        "colab_type": "code",
        "colab": {
          "autoexec": {
            "startup": false,
            "wait_interval": 0
          },
          "output_extras": [
            {
              "item_id": 1
            },
            {
              "item_id": 2
            }
          ],
          "base_uri": "https://localhost:8080/",
          "height": 282
        },
        "outputId": "f1ae8882-8b2d-413b-b5dc-e5bf42699bd0",
        "executionInfo": {
          "status": "ok",
          "timestamp": 1520203190912,
          "user_tz": 300,
          "elapsed": 373,
          "user": {
            "displayName": "James Chen",
            "photoUrl": "https://lh3.googleusercontent.com/a/default-user=s128",
            "userId": "116807333779983164530"
          }
        }
      },
      "cell_type": "code",
      "source": [
        "X_val = val_vectors\n",
        "p_hat_val = model(X_val, w)\n",
        "\n",
        "plt.subplot(1, 2, 1)\n",
        "plt.imshow(X_val[0].reshape(HEIGHT, WIDTH))\n",
        "plt.grid(False)\n",
        "plt.subplot(1, 2, 2)\n",
        "plt.plot(p_hat_val[0], 'o')"
      ],
      "execution_count": 62,
      "outputs": [
        {
          "output_type": "execute_result",
          "data": {
            "text/plain": [
              "[<matplotlib.lines.Line2D at 0x7fd6d8b0bcf8>]"
            ]
          },
          "metadata": {
            "tags": []
          },
          "execution_count": 62
        },
        {
          "output_type": "display_data",
          "data": {
            "image/png": "[encoded data removed]",
            "text/plain": [
              "<matplotlib.figure.Figure at 0x7fd6d8cdb278>"
            ]
          },
          "metadata": {
            "tags": []
          }
        }
      ]
    },
    {
      "metadata": {
        "id": "wRqW1bkG6u3d",
        "colab_type": "text"
      },
      "cell_type": "markdown",
      "source": [
        "**Write code to visualize our parameters, `best_w`, as a 28 x 28 image.**"
      ]
    },
    {
      "metadata": {
        "id": "LjOTOVi8x6uL",
        "colab_type": "code",
        "colab": {
          "autoexec": {
            "startup": false,
            "wait_interval": 0
          },
          "output_extras": [
            {
              "item_id": 1
            },
            {
              "item_id": 2
            }
          ],
          "base_uri": "https://localhost:8080/",
          "height": 282
        },
        "outputId": "35c0c6af-7d23-427f-dbc5-9fd48e6af03b",
        "executionInfo": {
          "status": "ok",
          "timestamp": 1520203543646,
          "user_tz": 300,
          "elapsed": 372,
          "user": {
            "displayName": "James Chen",
            "photoUrl": "https://lh3.googleusercontent.com/a/default-user=s128",
            "userId": "116807333779983164530"
          }
        }
      },
      "cell_type": "code",
      "source": [
        "plt.imshow(w.reshape((28,28)))"
      ],
      "execution_count": 65,
      "outputs": [
        {
          "output_type": "execute_result",
          "data": {
            "text/plain": [
              "<matplotlib.image.AxesImage at 0x7fd6d8a06278>"
            ]
          },
          "metadata": {
            "tags": []
          },
          "execution_count": 65
        },
        {
          "output_type": "display_data",
          "data": {
            "image/png": "[encoded data removed]",
            "text/plain": [
              "<matplotlib.figure.Figure at 0x7fd6d8aa9898>"
            ]
          },
          "metadata": {
            "tags": []
          }
        }
      ]
    },
    {
      "metadata": {
        "id": "9sHRxJk07ns_",
        "colab_type": "text"
      },
      "cell_type": "markdown",
      "source": [
        "**In the following Markdown Cell, answer:**\n",
        "\n",
        "**Can you explain what you're seeing in this visualization of our weights? For example, what do you think the weights with large values (bright white in the image) correspond to?**"
      ]
    },
    {
      "metadata": {
        "id": "5rjFX8UY4sJz",
        "colab_type": "text"
      },
      "cell_type": "markdown",
      "source": [
        "Wow this is pretty cool. We see the visualization of our weights with a bright white portion in the (10 to 15, 5 to 10) portion of the weights. The lowest weights are black and the highest weights are white. From far, it looks like a representation of the digit 4 and 9. In addition, the bright white portion coordinates seem to be the difference between 4 and 9. Not sure if that is significant."
      ]
    },
    {
      "metadata": {
        "id": "IqtvuugkNCqb",
        "colab_type": "code",
        "colab": {
          "autoexec": {
            "startup": false,
            "wait_interval": 0
          }
        }
      },
      "cell_type": "code",
      "source": [
        ""
      ],
      "execution_count": 0,
      "outputs": []
    }
  ]
}