{
 "cells": [
  {
   "cell_type": "code",
   "execution_count": 2,
   "metadata": {
    "colab": {
     "autoexec": {
      "startup": false,
      "wait_interval": 0
     }
    },
    "colab_type": "code",
    "id": "WeG6mrwNSW6w"
   },
   "outputs": [],
   "source": [
    "%matplotlib inline\n",
    "import matplotlib.pyplot as plt\n",
    "import numpy as np\n",
    "\n",
    "from pathlib import Path\n",
    "HOME = Path.home()\n",
    "MNIST_PATH = HOME / 'data' / 'mnist'"
   ]
  },
  {
   "cell_type": "markdown",
   "metadata": {},
   "source": [
    "### Read this First\n",
    "\n",
    "#### Remember that `tab` is is useful for autocompletion.\n",
    "\n",
    "#### Remember that `shift + tab` is useful for rapidly obtaining usage + documentation.\n",
    "\n",
    "#### Below we will use torchvision to conveniently load some data.\n",
    "\n",
    "To install PyTorch and torchvision on the ugrad machines:\n",
    "\n",
    "1. Make sure your virtual environment is activated (via `source cs382/bin/activate`).\n",
    "2. `pip3 install http://download.pytorch.org/whl/cpu/torch-0.3.0.post4-cp36-cp36m-linux_x86_64.whl`\n",
    "3. `pip3 install torchvision`"
   ]
  },
  {
   "cell_type": "markdown",
   "metadata": {},
   "source": [
    "### Basic Shapes and Types in NumPy"
   ]
  },
  {
   "cell_type": "markdown",
   "metadata": {},
   "source": [
    "**Create a 1-D array of 5 zeros named `array_of_zeros`. Print it, verify that its shape is `[5]`, and print its `dtype`.**"
   ]
  },
  {
   "cell_type": "code",
   "execution_count": 11,
   "metadata": {
    "colab": {
     "autoexec": {
      "startup": false,
      "wait_interval": 0
     },
     "base_uri": "https://localhost:8080/",
     "height": 34,
     "output_extras": [
      {
       "item_id": 1
      }
     ]
    },
    "colab_type": "code",
    "executionInfo": {
     "elapsed": 460,
     "status": "ok",
     "timestamp": 1518471263617,
     "user": {
      "displayName": "Robert DiPietro",
      "photoUrl": "//lh3.googleusercontent.com/-eOJoGaFo1WU/AAAAAAAAAAI/AAAAAAAAOpo/6bhyWUlmkGc/s50-c-k-no/photo.jpg",
      "userId": "114012429576863573360"
     },
     "user_tz": 300
    },
    "id": "aM7fRX1vSLwo",
    "outputId": "f4f403e9-9b0c-4781-9cd0-9003752195d1"
   },
   "outputs": [
    {
     "name": "stdout",
     "output_type": "stream",
     "text": [
      "[0. 0. 0. 0. 0.]\n",
      "(5,)\n",
      "float64\n"
     ]
    }
   ],
   "source": [
    "array_of_zeros = np.zeros(5)\n",
    "print(array_of_zeros)\n",
    "print(np.shape(array_of_zeros))\n",
    "print(array_of_zeros.dtype)"
   ]
  },
  {
   "cell_type": "markdown",
   "metadata": {},
   "source": [
    "**Print the transpose of `array_of_zeros`.**"
   ]
  },
  {
   "cell_type": "code",
   "execution_count": 14,
   "metadata": {},
   "outputs": [
    {
     "name": "stdout",
     "output_type": "stream",
     "text": [
      "[0. 0. 0. 0. 0.]\n",
      "(5,)\n"
     ]
    }
   ],
   "source": [
    "print(np.transpose(array_of_zeros))\n",
    "print(array_of_zeros.shape)"
   ]
  },
  {
   "cell_type": "markdown",
   "metadata": {},
   "source": [
    "**In the following Markdown Cell, answer:**\n",
    "\n",
    "**Is its transpose what you expected? Why or why not?**"
   ]
  },
  {
   "cell_type": "markdown",
   "metadata": {},
   "source": [
    "Yes. Because a transpose of a 1D array is still a 1D array. You can only tranpose a 2D array."
   ]
  },
  {
   "cell_type": "markdown",
   "metadata": {},
   "source": [
    "**Create a 2-D array of 5 zeros, named `array_of_zeros`, with shape `[1, 5]`. Print it, and print its shape.**"
   ]
  },
  {
   "cell_type": "code",
   "execution_count": 15,
   "metadata": {
    "colab": {
     "autoexec": {
      "startup": false,
      "wait_interval": 0
     },
     "base_uri": "https://localhost:8080/",
     "height": 34,
     "output_extras": [
      {
       "item_id": 1
      }
     ]
    },
    "colab_type": "code",
    "executionInfo": {
     "elapsed": 291,
     "status": "ok",
     "timestamp": 1518471264547,
     "user": {
      "displayName": "Robert DiPietro",
      "photoUrl": "//lh3.googleusercontent.com/-eOJoGaFo1WU/AAAAAAAAAAI/AAAAAAAAOpo/6bhyWUlmkGc/s50-c-k-no/photo.jpg",
      "userId": "114012429576863573360"
     },
     "user_tz": 300
    },
    "id": "Qe6JkZhgSLmH",
    "outputId": "b39f120c-c2c0-496c-e3a3-fc382b518af8"
   },
   "outputs": [
    {
     "name": "stdout",
     "output_type": "stream",
     "text": [
      "[[0. 0. 0. 0. 0.]]\n",
      "(1, 5)\n",
      "float64\n"
     ]
    }
   ],
   "source": [
    "array_of_zeros = np.zeros((1,5))\n",
    "print(array_of_zeros)\n",
    "print(array_of_zeros.shape)\n",
    "print(array_of_zeros.dtype)"
   ]
  },
  {
   "cell_type": "markdown",
   "metadata": {},
   "source": [
    "**Print the transpose of `array_of_zeros`.**"
   ]
  },
  {
   "cell_type": "code",
   "execution_count": 16,
   "metadata": {},
   "outputs": [
    {
     "name": "stdout",
     "output_type": "stream",
     "text": [
      "[[0.]\n",
      " [0.]\n",
      " [0.]\n",
      " [0.]\n",
      " [0.]]\n"
     ]
    }
   ],
   "source": [
    "print(array_of_zeros.T)"
   ]
  },
  {
   "cell_type": "markdown",
   "metadata": {},
   "source": [
    "**In the following Markdown Cell, answer:**\n",
    "\n",
    "**Is its transpose what you expected? Why or why not?**"
   ]
  },
  {
   "cell_type": "markdown",
   "metadata": {},
   "source": [
    "Yes. This is because we now have a 2D array. Thus, the tranpose is what we expect."
   ]
  },
  {
   "cell_type": "markdown",
   "metadata": {},
   "source": [
    "**Create a 1-D array of 5 zeros, named `array_of_zeros`, with a `dtype` of `np.float`. Print it, and its `dtype`.**"
   ]
  },
  {
   "cell_type": "code",
   "execution_count": 18,
   "metadata": {},
   "outputs": [
    {
     "name": "stdout",
     "output_type": "stream",
     "text": [
      "[0. 0. 0. 0. 0.]\n",
      "float64\n"
     ]
    }
   ],
   "source": [
    "array_of_zeros = np.zeros(5, dtype = np.float)\n",
    "print(array_of_zeros)\n",
    "print(array_of_zeros.dtype)"
   ]
  },
  {
   "cell_type": "markdown",
   "metadata": {},
   "source": [
    "**In the following Markdown Cell, answer:**\n",
    "\n",
    "**Does this array contain floats with 32 bit precision or 64 bit precision?**"
   ]
  },
  {
   "cell_type": "markdown",
   "metadata": {},
   "source": [
    "64 bit precision"
   ]
  },
  {
   "cell_type": "markdown",
   "metadata": {},
   "source": [
    "**Create a 1-D array of 5 zeros, named `array_of_zeros`, with a `dtype` of `np.int`. Print it, and its `dtype`.**"
   ]
  },
  {
   "cell_type": "code",
   "execution_count": 19,
   "metadata": {},
   "outputs": [
    {
     "name": "stdout",
     "output_type": "stream",
     "text": [
      "[0 0 0 0 0]\n",
      "int64\n"
     ]
    }
   ],
   "source": [
    "array_of_zeros = np.zeros(5, dtype = np.int)\n",
    "print(array_of_zeros)\n",
    "print(array_of_zeros.dtype)"
   ]
  },
  {
   "cell_type": "markdown",
   "metadata": {},
   "source": [
    "**In the following Markdown Cell, answer:**\n",
    "\n",
    "**Does this array contain 32-bit integers or 64-bit integers?**"
   ]
  },
  {
   "cell_type": "markdown",
   "metadata": {},
   "source": [
    "64 bit integers"
   ]
  },
  {
   "cell_type": "markdown",
   "metadata": {},
   "source": [
    "When dealing with GPUs, we will often want to use 32 bit precision.\n",
    "\n",
    "**Create a 1-D array of 5 zeros, named `array_of_zeros`, with a `dtype` of `np.float32`. Print it, and its `dtype`.**"
   ]
  },
  {
   "cell_type": "code",
   "execution_count": 20,
   "metadata": {},
   "outputs": [
    {
     "name": "stdout",
     "output_type": "stream",
     "text": [
      "[0. 0. 0. 0. 0.]\n",
      "float32\n"
     ]
    }
   ],
   "source": [
    "array_of_zeros = np.zeros(5, dtype = np.float32)\n",
    "print(array_of_zeros)\n",
    "print(array_of_zeros.dtype)"
   ]
  },
  {
   "cell_type": "markdown",
   "metadata": {},
   "source": [
    "**Create a 1-D array of 5 zeros, named `array_of_zeros`, with a `dtype` of `np.float`, and then create `array_of_zeros_32` by casting `array_of_zeros`. Print it, and its `dtype`.**"
   ]
  },
  {
   "cell_type": "code",
   "execution_count": 21,
   "metadata": {},
   "outputs": [
    {
     "name": "stdout",
     "output_type": "stream",
     "text": [
      "[0. 0. 0. 0. 0.]\n",
      "float64\n",
      "[0. 0. 0. 0. 0.]\n",
      "float32\n"
     ]
    }
   ],
   "source": [
    "array_of_zeros = np.zeros(5, dtype = np.float)\n",
    "array_of_zeros_32 = array_of_zeros.astype(np.float32)\n",
    "print(array_of_zeros)\n",
    "print(array_of_zeros.dtype)\n",
    "print(array_of_zeros_32)\n",
    "print(array_of_zeros_32.dtype)"
   ]
  },
  {
   "cell_type": "markdown",
   "metadata": {},
   "source": [
    "### `np.arange`, Element-Wise Operations, and Reshaping"
   ]
  },
  {
   "cell_type": "markdown",
   "metadata": {},
   "source": [
    "**Create `x1` to be a 1-D array of floats containing `[0, 1, 2, 3, 4]`, but do not type these values explicitly; instead, use `np.arange`. Also create `x2` in the exact same way. Print `x1`, `x2`, and `x1`'s `dtype`. Be sure `x1` and `x2` store floats, not ints.**"
   ]
  },
  {
   "cell_type": "code",
   "execution_count": 26,
   "metadata": {
    "colab": {
     "autoexec": {
      "startup": false,
      "wait_interval": 0
     },
     "base_uri": "https://localhost:8080/",
     "height": 68,
     "output_extras": [
      {
       "item_id": 1
      }
     ]
    },
    "colab_type": "code",
    "executionInfo": {
     "elapsed": 387,
     "status": "ok",
     "timestamp": 1518471272114,
     "user": {
      "displayName": "Robert DiPietro",
      "photoUrl": "//lh3.googleusercontent.com/-eOJoGaFo1WU/AAAAAAAAAAI/AAAAAAAAOpo/6bhyWUlmkGc/s50-c-k-no/photo.jpg",
      "userId": "114012429576863573360"
     },
     "user_tz": 300
    },
    "id": "88utEXrqT9dL",
    "outputId": "d9f1c68d-b3f1-4f2f-c302-b20150a55665"
   },
   "outputs": [
    {
     "name": "stdout",
     "output_type": "stream",
     "text": [
      "[0. 1. 2. 3. 4.]\n",
      "float64\n",
      "[0. 1. 2. 3. 4.]\n"
     ]
    }
   ],
   "source": [
    "x1 = np.arange(5.0)\n",
    "x2 = np.arange(5.0)\n",
    "print(x1)\n",
    "print(x1.dtype)\n",
    "print(x2)\n",
    "\n"
   ]
  },
  {
   "cell_type": "markdown",
   "metadata": {},
   "source": [
    "**Create `y` via `y = x1 + x2`. Print `y` and its `dtype`.**"
   ]
  },
  {
   "cell_type": "code",
   "execution_count": 27,
   "metadata": {},
   "outputs": [
    {
     "name": "stdout",
     "output_type": "stream",
     "text": [
      "[0. 2. 4. 6. 8.]\n",
      "float64\n"
     ]
    }
   ],
   "source": [
    "y = x1 + x2\n",
    "print(y)\n",
    "print(y.dtype)"
   ]
  },
  {
   "cell_type": "markdown",
   "metadata": {},
   "source": [
    "**Reshape `x1` to have shape `[1, 5]` and `x2` to have shape `[5, 1]`. Print their shapes.**"
   ]
  },
  {
   "cell_type": "code",
   "execution_count": 30,
   "metadata": {
    "colab": {
     "autoexec": {
      "startup": false,
      "wait_interval": 0
     },
     "base_uri": "https://localhost:8080/",
     "height": 85,
     "output_extras": [
      {
       "item_id": 1
      }
     ]
    },
    "colab_type": "code",
    "executionInfo": {
     "elapsed": 352,
     "status": "ok",
     "timestamp": 1518471273838,
     "user": {
      "displayName": "Robert DiPietro",
      "photoUrl": "//lh3.googleusercontent.com/-eOJoGaFo1WU/AAAAAAAAAAI/AAAAAAAAOpo/6bhyWUlmkGc/s50-c-k-no/photo.jpg",
      "userId": "114012429576863573360"
     },
     "user_tz": 300
    },
    "id": "zNyqD-p8UjTd",
    "outputId": "ae009961-7abf-4c34-cc7d-160b94a2eec6"
   },
   "outputs": [
    {
     "name": "stdout",
     "output_type": "stream",
     "text": [
      "(5,)\n",
      "(5,)\n",
      "(1, 5)\n",
      "(5, 1)\n"
     ]
    }
   ],
   "source": [
    "print(x1.shape)\n",
    "print(x2.shape)\n",
    "x1 = x1.reshape((1,5))\n",
    "x2 = x2.reshape((5,1))\n",
    "print(x1.shape)\n",
    "print(x2.shape)"
   ]
  },
  {
   "cell_type": "markdown",
   "metadata": {},
   "source": [
    "**Form `y` via `y = x1 + x2`. Print `y`.**"
   ]
  },
  {
   "cell_type": "code",
   "execution_count": 31,
   "metadata": {
    "colab": {
     "autoexec": {
      "startup": false,
      "wait_interval": 0
     },
     "base_uri": "https://localhost:8080/",
     "height": 68,
     "output_extras": [
      {
       "item_id": 1
      }
     ]
    },
    "colab_type": "code",
    "executionInfo": {
     "elapsed": 300,
     "status": "ok",
     "timestamp": 1518471274541,
     "user": {
      "displayName": "Robert DiPietro",
      "photoUrl": "//lh3.googleusercontent.com/-eOJoGaFo1WU/AAAAAAAAAAI/AAAAAAAAOpo/6bhyWUlmkGc/s50-c-k-no/photo.jpg",
      "userId": "114012429576863573360"
     },
     "user_tz": 300
    },
    "id": "m9dlKPmjUozM",
    "outputId": "bb162122-cfd4-406d-803b-f2645664ac0d"
   },
   "outputs": [
    {
     "name": "stdout",
     "output_type": "stream",
     "text": [
      "[[0. 1. 2. 3. 4.]\n",
      " [1. 2. 3. 4. 5.]\n",
      " [2. 3. 4. 5. 6.]\n",
      " [3. 4. 5. 6. 7.]\n",
      " [4. 5. 6. 7. 8.]]\n"
     ]
    }
   ],
   "source": [
    "y = x1 + x2\n",
    "print(y)"
   ]
  },
  {
   "cell_type": "markdown",
   "metadata": {},
   "source": [
    "**In the following Markdown Cell, answer:**\n",
    "\n",
    "**Is this what you expected? (For now, just a 'Yes' or 'No' is fine; we will revisit this result later.)**"
   ]
  },
  {
   "cell_type": "markdown",
   "metadata": {},
   "source": [
    "Yes"
   ]
  },
  {
   "cell_type": "markdown",
   "metadata": {},
   "source": [
    "**Create a 1-D array x containing integers 0, 1, ..., 8 using `np.arange`. Print it, and its `dtype`.**"
   ]
  },
  {
   "cell_type": "code",
   "execution_count": 102,
   "metadata": {
    "colab": {
     "autoexec": {
      "startup": false,
      "wait_interval": 0
     },
     "base_uri": "https://localhost:8080/",
     "height": 34,
     "output_extras": [
      {
       "item_id": 1
      }
     ]
    },
    "colab_type": "code",
    "executionInfo": {
     "elapsed": 331,
     "status": "ok",
     "timestamp": 1518471275421,
     "user": {
      "displayName": "Robert DiPietro",
      "photoUrl": "//lh3.googleusercontent.com/-eOJoGaFo1WU/AAAAAAAAAAI/AAAAAAAAOpo/6bhyWUlmkGc/s50-c-k-no/photo.jpg",
      "userId": "114012429576863573360"
     },
     "user_tz": 300
    },
    "id": "E7txqslbVukC",
    "outputId": "ea9a39d8-febd-42d5-bc27-eaafd676afbc"
   },
   "outputs": [
    {
     "name": "stdout",
     "output_type": "stream",
     "text": [
      "[0 1 2 3 4 5 6 7 8]\n",
      "int64\n"
     ]
    }
   ],
   "source": [
    "x = np.arange(9)\n",
    "print(x)\n",
    "print(x.dtype)"
   ]
  },
  {
   "cell_type": "markdown",
   "metadata": {},
   "source": [
    "**Create `X` by reshaping `x` to have shape `[3, 3]`. Print `X`.**"
   ]
  },
  {
   "cell_type": "code",
   "execution_count": 103,
   "metadata": {
    "colab": {
     "autoexec": {
      "startup": false,
      "wait_interval": 0
     },
     "base_uri": "https://localhost:8080/",
     "height": 68,
     "output_extras": [
      {
       "item_id": 1
      }
     ]
    },
    "colab_type": "code",
    "executionInfo": {
     "elapsed": 309,
     "status": "ok",
     "timestamp": 1518471277350,
     "user": {
      "displayName": "Robert DiPietro",
      "photoUrl": "//lh3.googleusercontent.com/-eOJoGaFo1WU/AAAAAAAAAAI/AAAAAAAAOpo/6bhyWUlmkGc/s50-c-k-no/photo.jpg",
      "userId": "114012429576863573360"
     },
     "user_tz": 300
    },
    "id": "Z3HL6gtyVxYB",
    "outputId": "8a9fcac1-236e-4d56-a9cb-3e30f18ab938"
   },
   "outputs": [
    {
     "name": "stdout",
     "output_type": "stream",
     "text": [
      "[[0 1 2]\n",
      " [3 4 5]\n",
      " [6 7 8]]\n"
     ]
    }
   ],
   "source": [
    "X = x.reshape((3,3))\n",
    "print(X)"
   ]
  },
  {
   "cell_type": "markdown",
   "metadata": {
    "colab_type": "text",
    "id": "l7lkXba9equh"
   },
   "source": [
    "NumPy arrays are typically contiguous strips of memory, with the shape specifying how we view that memory. For example, if the shape of the strip of memory `[0, 1, 2, 3]` is `[2, 2]`, then we view it as a 2 x 2 matrix.\n"
   ]
  },
  {
   "cell_type": "markdown",
   "metadata": {
    "colab_type": "text",
    "id": "I3OsvgE1gXM7"
   },
   "source": [
    "**In the following Markdown Cell, answer:**\n",
    "\n",
    "\n",
    "**Given your previous `reshape` result, and the fact that `reshape` only changes our view of a contiguous strip of memory, do *rows* have elements that are mutually closer in memory, or do *columns* have elements that are mutually closer in memory?**"
   ]
  },
  {
   "cell_type": "markdown",
   "metadata": {
    "colab_type": "text",
    "id": "PHUt3CVRgKfw"
   },
   "source": [
    "rows"
   ]
  },
  {
   "cell_type": "markdown",
   "metadata": {},
   "source": [
    "### Indexing, Masks, and Concatenation Using MNIST"
   ]
  },
  {
   "cell_type": "markdown",
   "metadata": {},
   "source": [
    "#### Reminder\n",
    "\n",
    "To install PyTorch and torchvision on the ugrad machines:\n",
    "\n",
    "1. Make sure your virtual environment is activated (via `source cs382/bin/activate`).\n",
    "2. `pip3 install http://download.pytorch.org/whl/cpu/torch-0.3.0.post4-cp36-cp36m-linux_x86_64.whl`\n",
    "3. `pip3 install torchvision`"
   ]
  },
  {
   "cell_type": "markdown",
   "metadata": {},
   "source": [
    "**Run the following code to download and load the MNIST training set.** (The data will be downloaded if it is not already present.)"
   ]
  },
  {
   "cell_type": "code",
   "execution_count": 3,
   "metadata": {
    "scrolled": true
   },
   "outputs": [],
   "source": [
    "import torchvision\n",
    "official_mnist_train = torchvision.datasets.MNIST(str(MNIST_PATH), train=True, download=True)\n",
    "train_images = official_mnist_train.train_data.numpy().astype(np.float)\n",
    "train_labels = official_mnist_train.train_labels.numpy().astype(np.int)"
   ]
  },
  {
   "cell_type": "markdown",
   "metadata": {},
   "source": [
    "**Print the shape of `train_images` and `train_labels`.**"
   ]
  },
  {
   "cell_type": "code",
   "execution_count": 4,
   "metadata": {},
   "outputs": [
    {
     "name": "stdout",
     "output_type": "stream",
     "text": [
      "(60000, 28, 28)\n",
      "(60000,)\n"
     ]
    }
   ],
   "source": [
    "print(train_images.shape)\n",
    "print(train_labels.shape)"
   ]
  },
  {
   "cell_type": "markdown",
   "metadata": {},
   "source": [
    "**In the following Markdown Cell, answer:**\n",
    "\n",
    "**Based on these shapes, how many training images are there? And what is the height and width of each image?**"
   ]
  },
  {
   "cell_type": "markdown",
   "metadata": {},
   "source": [
    "60000 training images with height = 28, width = 28"
   ]
  },
  {
   "cell_type": "markdown",
   "metadata": {},
   "source": [
    "**Form `first_image` as a 2-D array with shape `[28, 28]`, containing the 0-th image of `train_images`, and visualize `first_image` using `plt.imshow`.** Also feel free to run `plt.set_cmap('gray')` after plotting the image if you'd like to see it using a grayscale colormap."
   ]
  },
  {
   "cell_type": "code",
   "execution_count": 6,
   "metadata": {},
   "outputs": [
    {
     "name": "stdout",
     "output_type": "stream",
     "text": [
      "(28, 28)\n"
     ]
    },
    {
     "data": {
      "image/png": "[encoded data removed]",
      "text/plain": [
       "<matplotlib.figure.Figure at 0x7fa4cb9ce4e0>"
      ]
     },
     "metadata": {},
     "output_type": "display_data"
    }
   ],
   "source": [
    "first_image = train_images[0]\n",
    "print(first_image.shape)\n",
    "plt.imshow(first_image)\n",
    "plt.set_cmap('gray')"
   ]
  },
  {
   "cell_type": "markdown",
   "metadata": {},
   "source": [
    "**Print the label of the 0-th image.**"
   ]
  },
  {
   "cell_type": "code",
   "execution_count": 7,
   "metadata": {},
   "outputs": [
    {
     "name": "stdout",
     "output_type": "stream",
     "text": [
      "5\n"
     ]
    }
   ],
   "source": [
    "print(train_labels[0])"
   ]
  },
  {
   "cell_type": "markdown",
   "metadata": {},
   "source": [
    "**Create a 2-D array `first_image_flipped` that consists of the first training image *but flipped horizontally*, and visualize the result using `plt.imshow`.** Note that `first_image` has a shape of `[H, W]`, where `H` is the height of the image and `W` is the width of the image."
   ]
  },
  {
   "cell_type": "code",
   "execution_count": 8,
   "metadata": {},
   "outputs": [
    {
     "data": {
      "image/png": "[encoded data removed]",
      "text/plain": [
       "<matplotlib.figure.Figure at 0x7fa4ae01c320>"
      ]
     },
     "metadata": {},
     "output_type": "display_data"
    }
   ],
   "source": [
    "first_image_flipped = np.fliplr(first_image)\n",
    "plt.imshow(first_image_flipped)\n",
    "plt.set_cmap('gray')"
   ]
  },
  {
   "cell_type": "markdown",
   "metadata": {},
   "source": [
    "**Create a 2-D array `first_image_down_2` that consists of the first training image but downsampled by a factor of 2, and plot the result using `plt.imshow`.** (The resulting image should have shape `[14, 14]`.)"
   ]
  },
  {
   "cell_type": "code",
   "execution_count": 9,
   "metadata": {},
   "outputs": [
    {
     "name": "stdout",
     "output_type": "stream",
     "text": [
      "(14, 14)\n"
     ]
    },
    {
     "data": {
      "image/png": "[encoded data removed]",
      "text/plain": [
       "<matplotlib.figure.Figure at 0x7fa4ae00a240>"
      ]
     },
     "metadata": {},
     "output_type": "display_data"
    }
   ],
   "source": [
    "first_image_down_2 = first_image[::2,::2]\n",
    "plt.imshow(first_image_down_2)\n",
    "plt.set_cmap('gray')\n",
    "print(first_image_down_2.shape)"
   ]
  },
  {
   "cell_type": "markdown",
   "metadata": {},
   "source": [
    "**Create a 2-D array `first_image_down_4` that consists of the first training image but downsampled by a factor of 4, and plot the result using `plt.imshow`.** (The resulting image should have shape `[7, 7]`.)"
   ]
  },
  {
   "cell_type": "code",
   "execution_count": 10,
   "metadata": {},
   "outputs": [
    {
     "name": "stdout",
     "output_type": "stream",
     "text": [
      "(7, 7)\n"
     ]
    },
    {
     "data": {
      "image/png": "[encoded data removed]",
      "text/plain": [
       "<matplotlib.figure.Figure at 0x7fa4adf690b8>"
      ]
     },
     "metadata": {},
     "output_type": "display_data"
    }
   ],
   "source": [
    "first_image_down_4 = first_image[::4,::4]\n",
    "plt.imshow(first_image_down_4)\n",
    "plt.set_cmap('gray')\n",
    "print(first_image_down_4.shape)"
   ]
  },
  {
   "cell_type": "markdown",
   "metadata": {},
   "source": [
    "**Print the minimum and maximum values of `first_image`.**"
   ]
  },
  {
   "cell_type": "code",
   "execution_count": 11,
   "metadata": {},
   "outputs": [
    {
     "name": "stdout",
     "output_type": "stream",
     "text": [
      "0.0\n",
      "255.0\n"
     ]
    }
   ],
   "source": [
    "print(np.amin(first_image))\n",
    "print(np.amax(first_image))"
   ]
  },
  {
   "cell_type": "markdown",
   "metadata": {},
   "source": [
    "**Create a copy of `first_image`, `first_image_copy`, using `first_image_copy = first_image.copy()`.**"
   ]
  },
  {
   "cell_type": "code",
   "execution_count": 12,
   "metadata": {},
   "outputs": [],
   "source": [
    "first_image_copy = first_image.copy()"
   ]
  },
  {
   "cell_type": "markdown",
   "metadata": {},
   "source": [
    "**Create a 2-D boolean mask named `mask` with the same shape as `first_image_copy`, with elements that are `True` whenever a pixel's value exceeds 50 and which is `False` otherwise. Print `mask`'s `dtype` and also print how many values are `True`.**"
   ]
  },
  {
   "cell_type": "code",
   "execution_count": 13,
   "metadata": {},
   "outputs": [
    {
     "name": "stdout",
     "output_type": "stream",
     "text": [
      "bool\n",
      "134\n"
     ]
    }
   ],
   "source": [
    "mask = first_image_copy > 50\n",
    "print(mask.dtype)\n",
    "print(sum(sum(mask)))"
   ]
  },
  {
   "cell_type": "markdown",
   "metadata": {},
   "source": [
    "**Visualize `mask` using `plt.imshow`.**"
   ]
  },
  {
   "cell_type": "code",
   "execution_count": 14,
   "metadata": {},
   "outputs": [
    {
     "data": {
      "text/plain": [
       "<matplotlib.image.AxesImage at 0x7fa4adecaf60>"
      ]
     },
     "execution_count": 14,
     "metadata": {},
     "output_type": "execute_result"
    },
    {
     "data": {
      "image/png": "[encoded data removed]",
      "text/plain": [
       "<matplotlib.figure.Figure at 0x7fa4ae0fc198>"
      ]
     },
     "metadata": {},
     "output_type": "display_data"
    }
   ],
   "source": [
    "plt.imshow(mask)"
   ]
  },
  {
   "cell_type": "markdown",
   "metadata": {},
   "source": [
    "**Create `mask_upper_half` by keeping only the upper half of `mask`, and visualize `mask_upper_half` using `plt.imshow`.** (`mask_upper_half` should have shape `[14, 28]`.)"
   ]
  },
  {
   "cell_type": "code",
   "execution_count": 15,
   "metadata": {},
   "outputs": [
    {
     "name": "stdout",
     "output_type": "stream",
     "text": [
      "(14, 28)\n"
     ]
    },
    {
     "data": {
      "image/png": "[encoded data removed]",
      "text/plain": [
       "<matplotlib.figure.Figure at 0x7fa4ade99470>"
      ]
     },
     "metadata": {},
     "output_type": "display_data"
    }
   ],
   "source": [
    "mask_upper_half = mask[0:14,:]\n",
    "plt.imshow(mask_upper_half)\n",
    "print(mask_upper_half.shape)"
   ]
  },
  {
   "cell_type": "markdown",
   "metadata": {},
   "source": [
    "**Halve all pixels that exceed 50 in `first_image_copy` that exceed a value of 50, in place, using `mask`, and then print the minimum and maximum values of `first_image_copy`.**"
   ]
  },
  {
   "cell_type": "code",
   "execution_count": 16,
   "metadata": {},
   "outputs": [
    {
     "name": "stdout",
     "output_type": "stream",
     "text": [
      "0.0\n",
      "127.5\n"
     ]
    }
   ],
   "source": [
    "first_image_copy[mask] = first_image_copy[mask]/2\n",
    "print(np.amin(first_image_copy))\n",
    "print(np.amax(first_image_copy))"
   ]
  },
  {
   "cell_type": "markdown",
   "metadata": {},
   "source": [
    "**Form `first_ten_images_as_one` by concatenating the first 10 training MNIST images horizontally, and visualize the result using `plt.imshow`.**"
   ]
  },
  {
   "cell_type": "code",
   "execution_count": 17,
   "metadata": {},
   "outputs": [
    {
     "name": "stdout",
     "output_type": "stream",
     "text": [
      "(28, 280)\n"
     ]
    },
    {
     "data": {
      "text/plain": [
       "<matplotlib.image.AxesImage at 0x7fa4ae013c50>"
      ]
     },
     "execution_count": 17,
     "metadata": {},
     "output_type": "execute_result"
    },
    {
     "data": {
      "image/png": "[encoded data removed]",
      "text/plain": [
       "<matplotlib.figure.Figure at 0x7fa4adf10d30>"
      ]
     },
     "metadata": {},
     "output_type": "display_data"
    }
   ],
   "source": [
    "first_ten_images_as_one = np.concatenate(train_images[0:10],1)\n",
    "print(first_ten_images_as_one.shape)\n",
    "plt.imshow(first_ten_images_as_one)"
   ]
  },
  {
   "cell_type": "markdown",
   "metadata": {},
   "source": [
    "### Element-Wise Multiplication vs. Matrix Multiplication"
   ]
  },
  {
   "cell_type": "markdown",
   "metadata": {},
   "source": [
    "**Create `A` and `B`, each 2-D matrices of ones with shape `[3, 3]`.**"
   ]
  },
  {
   "cell_type": "code",
   "execution_count": 18,
   "metadata": {
    "colab": {
     "autoexec": {
      "startup": false,
      "wait_interval": 0
     }
    },
    "colab_type": "code",
    "id": "oBTegRogi5Ii"
   },
   "outputs": [
    {
     "name": "stdout",
     "output_type": "stream",
     "text": [
      "[[1. 1. 1.]\n",
      " [1. 1. 1.]\n",
      " [1. 1. 1.]]\n",
      "(3, 3)\n"
     ]
    }
   ],
   "source": [
    "A = np.ones((3,3))\n",
    "B = np.ones((3,3))\n",
    "print(A)\n",
    "print(A.shape)"
   ]
  },
  {
   "cell_type": "markdown",
   "metadata": {},
   "source": [
    "**Form `C_star` via `C_star = A * B`, and print `C_star`.**"
   ]
  },
  {
   "cell_type": "code",
   "execution_count": 19,
   "metadata": {
    "colab": {
     "autoexec": {
      "startup": false,
      "wait_interval": 0
     },
     "base_uri": "https://localhost:8080/",
     "height": 68,
     "output_extras": [
      {
       "item_id": 1
      }
     ]
    },
    "colab_type": "code",
    "executionInfo": {
     "elapsed": 380,
     "status": "ok",
     "timestamp": 1518471293326,
     "user": {
      "displayName": "Robert DiPietro",
      "photoUrl": "//lh3.googleusercontent.com/-eOJoGaFo1WU/AAAAAAAAAAI/AAAAAAAAOpo/6bhyWUlmkGc/s50-c-k-no/photo.jpg",
      "userId": "114012429576863573360"
     },
     "user_tz": 300
    },
    "id": "Bjfa79cFjA1y",
    "outputId": "5d1ceacb-a04b-4a30-a4e1-1c5251ec2806"
   },
   "outputs": [
    {
     "name": "stdout",
     "output_type": "stream",
     "text": [
      "[[1. 1. 1.]\n",
      " [1. 1. 1.]\n",
      " [1. 1. 1.]]\n"
     ]
    }
   ],
   "source": [
    "C_star = A*B\n",
    "print(C_star)"
   ]
  },
  {
   "cell_type": "markdown",
   "metadata": {},
   "source": [
    "**Form `C_at` via `C_at = A @ B`, and print `C_at`.**"
   ]
  },
  {
   "cell_type": "code",
   "execution_count": 20,
   "metadata": {
    "colab": {
     "autoexec": {
      "startup": false,
      "wait_interval": 0
     },
     "base_uri": "https://localhost:8080/",
     "height": 68,
     "output_extras": [
      {
       "item_id": 1
      }
     ]
    },
    "colab_type": "code",
    "executionInfo": {
     "elapsed": 463,
     "status": "ok",
     "timestamp": 1518471294125,
     "user": {
      "displayName": "Robert DiPietro",
      "photoUrl": "//lh3.googleusercontent.com/-eOJoGaFo1WU/AAAAAAAAAAI/AAAAAAAAOpo/6bhyWUlmkGc/s50-c-k-no/photo.jpg",
      "userId": "114012429576863573360"
     },
     "user_tz": 300
    },
    "id": "jFTC1sAhjEvm",
    "outputId": "7107cfa3-b7ae-40fa-c986-d3f6fcc3c47a"
   },
   "outputs": [
    {
     "name": "stdout",
     "output_type": "stream",
     "text": [
      "[[3. 3. 3.]\n",
      " [3. 3. 3.]\n",
      " [3. 3. 3.]]\n"
     ]
    }
   ],
   "source": [
    "C_at = A@B\n",
    "print(C_at)"
   ]
  },
  {
   "cell_type": "markdown",
   "metadata": {
    "colab_type": "text",
    "id": "CcUUvfGpjHJS"
   },
   "source": [
    "**In the following Markdown Cell, answer:**\n",
    "\n",
    "**What operation does `*` perform? What operation does `@` perform?**"
   ]
  },
  {
   "cell_type": "markdown",
   "metadata": {
    "colab_type": "text",
    "id": "U-AIC_ttjSW1"
   },
   "source": [
    "@ is matrix multiplication\n",
    "* is element wise multiplication"
   ]
  },
  {
   "cell_type": "markdown",
   "metadata": {},
   "source": [
    "### Broadcasting"
   ]
  },
  {
   "cell_type": "markdown",
   "metadata": {
    "colab_type": "text",
    "id": "HykGB66dM7MO"
   },
   "source": [
    "Suppose you have some data collected in a 1-D array, which is not 'normalized' in the sense that it has a mean that's far from 0 and a standard deviation that's far from 1:"
   ]
  },
  {
   "cell_type": "code",
   "execution_count": 21,
   "metadata": {
    "colab": {
     "autoexec": {
      "startup": false,
      "wait_interval": 0
     },
     "base_uri": "https://localhost:8080/",
     "height": 51,
     "output_extras": [
      {
       "item_id": 1
      }
     ]
    },
    "colab_type": "code",
    "executionInfo": {
     "elapsed": 257,
     "status": "ok",
     "timestamp": 1518471309744,
     "user": {
      "displayName": "Robert DiPietro",
      "photoUrl": "//lh3.googleusercontent.com/-eOJoGaFo1WU/AAAAAAAAAAI/AAAAAAAAOpo/6bhyWUlmkGc/s50-c-k-no/photo.jpg",
      "userId": "114012429576863573360"
     },
     "user_tz": 300
    },
    "id": "Gxqlr64OMc_v",
    "outputId": "a25a687e-142a-424a-c741-a1a6f9666806"
   },
   "outputs": [
    {
     "name": "stdout",
     "output_type": "stream",
     "text": [
      "2.8\n",
      "1.7227884373886422\n"
     ]
    }
   ],
   "source": [
    "x = np.array([3.2, 1.1, 1.2, 5.3, 3.9, 1.9, 2.0, 6.2, 1.0, 2.2])\n",
    "print(x.mean())\n",
    "print(x.std())"
   ]
  },
  {
   "cell_type": "markdown",
   "metadata": {
    "colab_type": "text",
    "id": "p3vPH5ykNFKs"
   },
   "source": [
    "**Form `z` by normalizing `x`. That is, each entry in `z` should be the *standardized score* of the corresponding entry in `x`: $z_i = (x_i - \\mu) / \\sigma$. Print `z` and verify that its mean is close to 0.0 and that its standard deviation is close to 1.0.**"
   ]
  },
  {
   "cell_type": "code",
   "execution_count": 22,
   "metadata": {
    "colab": {
     "autoexec": {
      "startup": false,
      "wait_interval": 0
     },
     "base_uri": "https://localhost:8080/",
     "height": 51,
     "output_extras": [
      {
       "item_id": 1
      }
     ]
    },
    "colab_type": "code",
    "executionInfo": {
     "elapsed": 328,
     "status": "ok",
     "timestamp": 1518471310387,
     "user": {
      "displayName": "Robert DiPietro",
      "photoUrl": "//lh3.googleusercontent.com/-eOJoGaFo1WU/AAAAAAAAAAI/AAAAAAAAOpo/6bhyWUlmkGc/s50-c-k-no/photo.jpg",
      "userId": "114012429576863573360"
     },
     "user_tz": 300
    },
    "id": "2UbG0gTrMmio",
    "outputId": "59f2f157-d3ff-4281-cd34-00ef7c2781b2"
   },
   "outputs": [
    {
     "name": "stdout",
     "output_type": "stream",
     "text": [
      "9.992007221626409e-17\n",
      "1.0000000000000002\n"
     ]
    }
   ],
   "source": [
    "z = (x - x.mean())/x.std()\n",
    "print(z.mean())\n",
    "print(z.std())"
   ]
  },
  {
   "cell_type": "markdown",
   "metadata": {
    "colab_type": "text",
    "id": "m2hreOdTNc9q"
   },
   "source": [
    "Now suppose that you have 5 3-dimensional feature vectors collected in an array, and that none of the features are normalized, in that each feature has a mean that's far from 0 and a standard deviation that's far from 1:"
   ]
  },
  {
   "cell_type": "code",
   "execution_count": 23,
   "metadata": {
    "colab": {
     "autoexec": {
      "startup": false,
      "wait_interval": 0
     },
     "base_uri": "https://localhost:8080/",
     "height": 51,
     "output_extras": [
      {
       "item_id": 1
      }
     ]
    },
    "colab_type": "code",
    "executionInfo": {
     "elapsed": 282,
     "status": "ok",
     "timestamp": 1518471311105,
     "user": {
      "displayName": "Robert DiPietro",
      "photoUrl": "//lh3.googleusercontent.com/-eOJoGaFo1WU/AAAAAAAAAAI/AAAAAAAAOpo/6bhyWUlmkGc/s50-c-k-no/photo.jpg",
      "userId": "114012429576863573360"
     },
     "user_tz": 300
    },
    "id": "C6wrb0_RM3ux",
    "outputId": "6d8c4def-e5be-4986-cda9-8a45365f541c"
   },
   "outputs": [
    {
     "name": "stdout",
     "output_type": "stream",
     "text": [
      "[ 3.76 -0.36  1.08]\n",
      "[2.73027471 0.71442284 1.26396202]\n"
     ]
    }
   ],
   "source": [
    "data = np.array([[7.5, -1.1,  1.6],\n",
    "                 [0.1,  0.9, -0.7],\n",
    "                 [6.3, -0.9,  3.1],\n",
    "                 [2.5, -0.6,  0.4],\n",
    "                 [2.4, -0.1,  1.0]])\n",
    "print(data.mean(axis=0))\n",
    "print(data.std(axis=0))"
   ]
  },
  {
   "cell_type": "markdown",
   "metadata": {
    "colab_type": "text",
    "id": "MWwO_567Of7g"
   },
   "source": [
    "**Write code to normalize this data on a feature-wise basis, so that each feature has mean 0 and standard deviation 1, and store the result in `normalized_data`. Print `normalized_data` along with its per-feature mean and its per-feature standard deviation.**"
   ]
  },
  {
   "cell_type": "code",
   "execution_count": 24,
   "metadata": {
    "colab": {
     "autoexec": {
      "startup": false,
      "wait_interval": 0
     }
    },
    "colab_type": "code",
    "id": "8cNQjOwjPUoY"
   },
   "outputs": [
    {
     "name": "stdout",
     "output_type": "stream",
     "text": [
      "[[ 1.36982553 -1.03580115  0.41140477]\n",
      " [-1.34052445  1.76366141 -1.40827016]\n",
      " [ 0.93030932 -0.75585489  1.59814928]\n",
      " [-0.46149202 -0.33593551 -0.53799085]\n",
      " [-0.49811837  0.36393013 -0.06329304]]\n",
      "[ 1.88737914e-16  1.11022302e-17 -5.55111512e-18]\n",
      "[1. 1. 1.]\n"
     ]
    }
   ],
   "source": [
    "nmean = data.mean(axis=0)\n",
    "nstd = data.std(axis=0)\n",
    "normalized_data = (data - nmean)/nstd\n",
    "print(normalized_data)\n",
    "print(normalized_data.mean(axis=0))\n",
    "print(normalized_data.std(axis=0))"
   ]
  },
  {
   "cell_type": "markdown",
   "metadata": {
    "colab_type": "text",
    "id": "LUcbZFt7PWbw"
   },
   "source": [
    "Now suppose that you have 3 3-D vectors that each represent *unnormalized class scores*. That is, each 3-D vector represents the scores for three different classes in a classification problem. (For example, these could be the outputs of an image-classification model, with each row corresponding to a particular image and each column corresponding to a particular class, such as 'dog', 'cat', or 'other'.)\n",
    "\n",
    "If each row represented a valid probability distribution, then their elements would sum do 1, but they currently do not:"
   ]
  },
  {
   "cell_type": "code",
   "execution_count": 25,
   "metadata": {
    "colab": {
     "autoexec": {
      "startup": false,
      "wait_interval": 0
     },
     "base_uri": "https://localhost:8080/",
     "height": 85,
     "output_extras": [
      {
       "item_id": 1
      }
     ]
    },
    "colab_type": "code",
    "executionInfo": {
     "elapsed": 296,
     "status": "ok",
     "timestamp": 1518471313254,
     "user": {
      "displayName": "Robert DiPietro",
      "photoUrl": "//lh3.googleusercontent.com/-eOJoGaFo1WU/AAAAAAAAAAI/AAAAAAAAOpo/6bhyWUlmkGc/s50-c-k-no/photo.jpg",
      "userId": "114012429576863573360"
     },
     "user_tz": 300
    },
    "id": "o-565kjQQoWo",
    "outputId": "e410a0a0-c43b-4b86-f23a-3142ecedb763"
   },
   "outputs": [
    {
     "name": "stdout",
     "output_type": "stream",
     "text": [
      "[[8.2 6.7 6.3]\n",
      " [9.5 0.2 9.3]\n",
      " [3.6 2.7 9. ]]\n",
      "[21.2 19.  15.3]\n"
     ]
    }
   ],
   "source": [
    "scores = np.array([[8.2, 6.7, 6.3],\n",
    "                   [9.5, 0.2, 9.3],\n",
    "                   [3.6, 2.7, 9.0]])\n",
    "print(scores)\n",
    "print(scores.sum(axis=1))"
   ]
  },
  {
   "cell_type": "markdown",
   "metadata": {
    "colab_type": "text",
    "id": "-8Zeiqb5Rblr"
   },
   "source": [
    "**Write code to compute and print the array `probabilities` by dividing each row of `scores` by its sum. Print `probabilities` and the sum of each of its rows, to verify that each row sums to 1.** Hint: If the rows do not sum to 1, then think about broadcasting and take a look at the `keepdims` keyword argument of NumPy's `sum` function."
   ]
  },
  {
   "cell_type": "code",
   "execution_count": 26,
   "metadata": {
    "colab": {
     "autoexec": {
      "startup": false,
      "wait_interval": 0
     },
     "base_uri": "https://localhost:8080/",
     "height": 68,
     "output_extras": [
      {
       "item_id": 1
      }
     ]
    },
    "colab_type": "code",
    "executionInfo": {
     "elapsed": 284,
     "status": "ok",
     "timestamp": 1518471313959,
     "user": {
      "displayName": "Robert DiPietro",
      "photoUrl": "//lh3.googleusercontent.com/-eOJoGaFo1WU/AAAAAAAAAAI/AAAAAAAAOpo/6bhyWUlmkGc/s50-c-k-no/photo.jpg",
      "userId": "114012429576863573360"
     },
     "user_tz": 300
    },
    "id": "m2mF2tPHSWEn",
    "outputId": "03670aa9-96f8-4889-a7e4-068b619f4195"
   },
   "outputs": [
    {
     "name": "stdout",
     "output_type": "stream",
     "text": [
      "[[0.38679245 0.31603774 0.29716981]\n",
      " [0.5        0.01052632 0.48947368]\n",
      " [0.23529412 0.17647059 0.58823529]]\n",
      "[1. 1. 1.]\n"
     ]
    }
   ],
   "source": [
    "sums = scores.sum(axis=1,keepdims=True)\n",
    "probabilities = scores/sums\n",
    "print(probabilities)\n",
    "print(probabilities.sum(axis=1))"
   ]
  },
  {
   "cell_type": "markdown",
   "metadata": {},
   "source": [
    "**Complete the `tril_` function below by inserting only 2 lines of code at the bottom of the function.** Hint: Form a mask using broadcasting, and use the mask to modify `X` in place."
   ]
  },
  {
   "cell_type": "code",
   "execution_count": 27,
   "metadata": {
    "colab": {
     "autoexec": {
      "startup": false,
      "wait_interval": 0
     }
    },
    "colab_type": "code",
    "id": "GFRy7e-egzBu"
   },
   "outputs": [],
   "source": [
    "def tril_(X):\n",
    "    \"\"\"Modify X in place to become lower triangular.\n",
    "\n",
    "    Args:\n",
    "        X: A 2-D NumPy array with shape [M, N].\n",
    "    \"\"\"\n",
    "    if X.ndim != 2:\n",
    "        raise ValueError('X must be a 2-D array.')\n",
    "    M, N = X.shape\n",
    "    i = np.arange(M).reshape(1, M)\n",
    "    j = np.arange(N).reshape(N, 1)\n",
    "    \n",
    "    # TODO: Replace with valid code.\n",
    "    mask = i>j\n",
    "    X[mask] = 0\n",
    "    "
   ]
  },
  {
   "cell_type": "markdown",
   "metadata": {},
   "source": [
    "**Create a random matrix `X` with shape `[3, 3]` using `np.random.rand`, run `tril_(X)`, and verify that `X` is now lower triangular.**"
   ]
  },
  {
   "cell_type": "code",
   "execution_count": 28,
   "metadata": {
    "colab": {
     "autoexec": {
      "startup": false,
      "wait_interval": 0
     },
     "base_uri": "https://localhost:8080/",
     "height": 102,
     "output_extras": [
      {
       "item_id": 1
      }
     ]
    },
    "colab_type": "code",
    "executionInfo": {
     "elapsed": 280,
     "status": "ok",
     "timestamp": 1518471291880,
     "user": {
      "displayName": "Robert DiPietro",
      "photoUrl": "//lh3.googleusercontent.com/-eOJoGaFo1WU/AAAAAAAAAAI/AAAAAAAAOpo/6bhyWUlmkGc/s50-c-k-no/photo.jpg",
      "userId": "114012429576863573360"
     },
     "user_tz": 300
    },
    "id": "vjR5-HLsiV_G",
    "outputId": "0aad3d75-d890-4a7d-d6c3-3193c6d23ea5"
   },
   "outputs": [
    {
     "name": "stdout",
     "output_type": "stream",
     "text": [
      "[[0.76728556 0.79637188 0.95611388]\n",
      " [0.10198235 0.52140671 0.08507775]\n",
      " [0.39692802 0.94626138 0.80496139]]\n",
      "[[0.76728556 0.         0.        ]\n",
      " [0.10198235 0.52140671 0.        ]\n",
      " [0.39692802 0.94626138 0.80496139]]\n"
     ]
    }
   ],
   "source": [
    "X = np.random.rand(3,3)\n",
    "print(X)\n",
    "tril_(X)\n",
    "print(X)\n"
   ]
  },
  {
   "cell_type": "markdown",
   "metadata": {},
   "source": [
    "**Create a random matrix `X` with shape `[5, 5]` using `np.random.rand`, run `tril_(X)`, and verify that `X` is now lower triangular.**"
   ]
  },
  {
   "cell_type": "code",
   "execution_count": 29,
   "metadata": {},
   "outputs": [
    {
     "name": "stdout",
     "output_type": "stream",
     "text": [
      "[[0.26627717 0.32152275 0.6686068  0.30324094 0.00803722]\n",
      " [0.14963896 0.9491489  0.57642949 0.3462058  0.97932608]\n",
      " [0.77737851 0.96447014 0.36687703 0.6217528  0.76521379]\n",
      " [0.2414923  0.22561651 0.88497066 0.82667361 0.79226247]\n",
      " [0.01166499 0.14277018 0.20441564 0.80363347 0.94068697]]\n",
      "[[0.26627717 0.         0.         0.         0.        ]\n",
      " [0.14963896 0.9491489  0.         0.         0.        ]\n",
      " [0.77737851 0.96447014 0.36687703 0.         0.        ]\n",
      " [0.2414923  0.22561651 0.88497066 0.82667361 0.        ]\n",
      " [0.01166499 0.14277018 0.20441564 0.80363347 0.94068697]]\n"
     ]
    }
   ],
   "source": [
    "X = np.random.rand(5,5)\n",
    "print(X)\n",
    "tril_(X)\n",
    "print(X)"
   ]
  },
  {
   "cell_type": "markdown",
   "metadata": {
    "colab_type": "text",
    "id": "GPtxxYs4Lhva"
   },
   "source": [
    "### Booleans vs. Masks"
   ]
  },
  {
   "cell_type": "markdown",
   "metadata": {},
   "source": [
    "**Create `x` using `x = np.array([1, 2, 3])`, and create `y` using `y = x`.**"
   ]
  },
  {
   "cell_type": "code",
   "execution_count": 30,
   "metadata": {},
   "outputs": [],
   "source": [
    "x = np.array([1,2,3])\n",
    "y = x"
   ]
  },
  {
   "cell_type": "markdown",
   "metadata": {},
   "source": [
    "**Print the expression `x == y`.**"
   ]
  },
  {
   "cell_type": "code",
   "execution_count": 31,
   "metadata": {},
   "outputs": [
    {
     "name": "stdout",
     "output_type": "stream",
     "text": [
      "[ True  True  True]\n"
     ]
    }
   ],
   "source": [
    "print(x==y)"
   ]
  },
  {
   "cell_type": "markdown",
   "metadata": {},
   "source": [
    "**Use `np.all` to test whether *all* elements of `x` are equal to their corresponding elements in `y`. You should print the result, which should be a single boolean, `True` or `False`.**"
   ]
  },
  {
   "cell_type": "code",
   "execution_count": 32,
   "metadata": {
    "colab": {
     "autoexec": {
      "startup": false,
      "wait_interval": 0
     },
     "base_uri": "https://localhost:8080/",
     "height": 51,
     "output_extras": [
      {
       "item_id": 1
      }
     ]
    },
    "colab_type": "code",
    "executionInfo": {
     "elapsed": 391,
     "status": "ok",
     "timestamp": 1518471316239,
     "user": {
      "displayName": "Robert DiPietro",
      "photoUrl": "//lh3.googleusercontent.com/-eOJoGaFo1WU/AAAAAAAAAAI/AAAAAAAAOpo/6bhyWUlmkGc/s50-c-k-no/photo.jpg",
      "userId": "114012429576863573360"
     },
     "user_tz": 300
    },
    "id": "HLqgLdTLVyYV",
    "outputId": "0d463438-af9a-45b1-c7c6-44ffc1a9e217"
   },
   "outputs": [
    {
     "name": "stdout",
     "output_type": "stream",
     "text": [
      "True\n"
     ]
    }
   ],
   "source": [
    "print(np.all(x==y))"
   ]
  },
  {
   "cell_type": "markdown",
   "metadata": {},
   "source": [
    "**Modify the 0-th element of `y` via `y[0] = 5`, and again use `np.all` to test whether all elements of `x` are equal to their corresponding elements in `y`, and again print the result.**"
   ]
  },
  {
   "cell_type": "code",
   "execution_count": 33,
   "metadata": {
    "colab": {
     "autoexec": {
      "startup": false,
      "wait_interval": 0
     },
     "base_uri": "https://localhost:8080/",
     "height": 51,
     "output_extras": [
      {
       "item_id": 1
      }
     ]
    },
    "colab_type": "code",
    "executionInfo": {
     "elapsed": 313,
     "status": "ok",
     "timestamp": 1518471317462,
     "user": {
      "displayName": "Robert DiPietro",
      "photoUrl": "//lh3.googleusercontent.com/-eOJoGaFo1WU/AAAAAAAAAAI/AAAAAAAAOpo/6bhyWUlmkGc/s50-c-k-no/photo.jpg",
      "userId": "114012429576863573360"
     },
     "user_tz": 300
    },
    "id": "xP1X-3COV-q_",
    "outputId": "6b1eea8d-879d-4d1c-f7aa-fdd876d952e1"
   },
   "outputs": [
    {
     "name": "stdout",
     "output_type": "stream",
     "text": [
      "True\n"
     ]
    }
   ],
   "source": [
    "y[0] = 5\n",
    "print(np.all(x==y))"
   ]
  },
  {
   "cell_type": "markdown",
   "metadata": {},
   "source": [
    "**In the Markdown Cell below, answer:**\n",
    "\n",
    "**Is the last result what you expected? Explain what is happening here.**"
   ]
  },
  {
   "cell_type": "markdown",
   "metadata": {},
   "source": [
    "yes. We are modifying the same copy."
   ]
  },
  {
   "cell_type": "markdown",
   "metadata": {},
   "source": [
    "**Create `x = np.array([1, 2, 3])` and `y = np.array([2, 2, 2])`. Again use `np.all` to test whether all elements of `x` are equal to their corresponding elements in `y`, and again print the result.**"
   ]
  },
  {
   "cell_type": "code",
   "execution_count": 34,
   "metadata": {
    "colab": {
     "autoexec": {
      "startup": false,
      "wait_interval": 0
     },
     "base_uri": "https://localhost:8080/",
     "height": 34,
     "output_extras": [
      {
       "item_id": 1
      }
     ]
    },
    "colab_type": "code",
    "executionInfo": {
     "elapsed": 456,
     "status": "ok",
     "timestamp": 1518471318214,
     "user": {
      "displayName": "Robert DiPietro",
      "photoUrl": "//lh3.googleusercontent.com/-eOJoGaFo1WU/AAAAAAAAAAI/AAAAAAAAOpo/6bhyWUlmkGc/s50-c-k-no/photo.jpg",
      "userId": "114012429576863573360"
     },
     "user_tz": 300
    },
    "id": "w1vkvXD1WMr6",
    "outputId": "1128b6b9-bc49-46cf-83c2-7ad05d277b63"
   },
   "outputs": [
    {
     "name": "stdout",
     "output_type": "stream",
     "text": [
      "False\n"
     ]
    }
   ],
   "source": [
    "x = np.array([1, 2, 3])\n",
    "y = np.array([2, 2, 2])\n",
    "print(np.all(x==y))"
   ]
  },
  {
   "cell_type": "markdown",
   "metadata": {},
   "source": [
    "**Use `np.any` to test whether *any* elements of `x` are equal to their corresponding elements in `y`, and again print the result.**"
   ]
  },
  {
   "cell_type": "code",
   "execution_count": 35,
   "metadata": {
    "colab": {
     "autoexec": {
      "startup": false,
      "wait_interval": 0
     },
     "base_uri": "https://localhost:8080/",
     "height": 34,
     "output_extras": [
      {
       "item_id": 1
      }
     ]
    },
    "colab_type": "code",
    "executionInfo": {
     "elapsed": 437,
     "status": "ok",
     "timestamp": 1518471318954,
     "user": {
      "displayName": "Robert DiPietro",
      "photoUrl": "//lh3.googleusercontent.com/-eOJoGaFo1WU/AAAAAAAAAAI/AAAAAAAAOpo/6bhyWUlmkGc/s50-c-k-no/photo.jpg",
      "userId": "114012429576863573360"
     },
     "user_tz": 300
    },
    "id": "UNC1sUXqWQ24",
    "outputId": "6991343d-bd0d-4284-fc22-680317aaf00e"
   },
   "outputs": [
    {
     "name": "stdout",
     "output_type": "stream",
     "text": [
      "True\n"
     ]
    }
   ],
   "source": [
    "print(np.any(x==y))"
   ]
  },
  {
   "cell_type": "code",
   "execution_count": null,
   "metadata": {},
   "outputs": [],
   "source": []
  }
 ],
 "metadata": {
  "colab": {
   "collapsed_sections": [],
   "default_view": {},
   "name": "2018-02-13-cs382-lab-with-answers.ipynb",
   "provenance": [],
   "version": "0.3.2",
   "views": {}
  },
  "kernelspec": {
   "display_name": "Python 3",
   "language": "python",
   "name": "python3"
  },
  "language_info": {
   "codemirror_mode": {
    "name": "ipython",
    "version": 3
   },
   "file_extension": ".py",
   "mimetype": "text/x-python",
   "name": "python",
   "nbconvert_exporter": "python",
   "pygments_lexer": "ipython3",
   "version": "3.6.4"
  }
 },
 "nbformat": 4,
 "nbformat_minor": 1
}
